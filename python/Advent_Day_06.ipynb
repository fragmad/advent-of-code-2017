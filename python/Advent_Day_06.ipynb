{
 "cells": [
  {
   "cell_type": "markdown",
   "metadata": {},
   "source": [
    ">In this area, there are sixteen memory banks; each memory bank can hold any number of blocks. The goal of the reallocation routine is to balance the blocks between the memory banks.\n",
    "\n",
    ">The reallocation routine operates in cycles. In each cycle, it finds the memory bank with the most blocks (ties won by the lowest-numbered memory bank) and redistributes those blocks among the banks. To do this, it removes all of the blocks from the selected bank, then moves to the next (by index) memory bank and inserts one of the blocks. It continues doing this until it runs out of blocks; if it reaches the last memory bank, it wraps around to the first one.\n",
    "\n",
    ">The debugger would like to know how many redistributions can be done before a blocks-in-banks configuration is produced that has been seen before.\n",
    "\n",
    ">For example, imagine a scenario with only four memory banks:\n",
    "\n",
    "> - The banks start with 0, 2, 7, and 0 blocks. The third bank has the most blocks, so it is chosen for redistribution.\n",
    "> - Starting with the next bank (the fourth bank) and then continuing to the first bank, the second bank, and so on, the 7 blocks are spread out over the memory banks. The fourth, first, and second banks get two blocks each, and the third bank gets one back. The final result looks like this: 2 4 1 2.\n",
    "> - Next, the second bank is chosen because it contains the most blocks (four). Because there are four memory banks, each gets one block. The result is: 3 1 2 3.\n",
    "> - Now, there is a tie between the first and fourth memory banks, both of which have three blocks. The first bank wins the tie, and its three blocks are distributed evenly over the other three banks, leaving it with none: 0 2 3 4.\n",
    "> - The fourth bank is chosen, and its four blocks are distributed such that each of the four banks receives one: 1 3 4 1.\n",
    "> - The third bank is chosen, and the same thing happens: 2 4 1 2.\n",
    "\n",
    "> At this point, we've reached a state we've seen before: 2 4 1 2 was already seen. The infinite loop is detected after the fifth block redistribution cycle, and so the answer in this example is 5.\n",
    "\n",
    ">Given the initial block counts in your puzzle input, *how many redistribution cycles* must be completed before a configuration is produced that has been seen before?"
   ]
  },
  {
   "cell_type": "code",
   "execution_count": 89,
   "metadata": {},
   "outputs": [],
   "source": [
    "TEST_DATA_INITIAL_STATE = [0,2,7,0]\n",
    "TEST_DATA_INITIAL_STATE_MAX_BLOCKS = 7\n",
    "TEST_DATA_INITITAL_STATE_MAX_BLOCKS_INDEX = 2 # The third bank\n",
    "TEST_DATA_SECOND_STATE = [2, 4, 1, 2]\n"
   ]
  },
  {
   "cell_type": "code",
   "execution_count": 106,
   "metadata": {},
   "outputs": [],
   "source": [
    "def first_max(input_list):\n",
    "    list_max = max(input_list)\n",
    "    list_max_index = len(input_list)\n",
    "    \n",
    "    for index, item in enumerate(input_list):\n",
    "            if item == list_max:\n",
    "                if index < list_max_index:\n",
    "                    list_max = item\n",
    "                    list_max_index = index\n",
    "                    \n",
    "    return (list_max, list_max_index)\n"
   ]
  },
  {
   "cell_type": "code",
   "execution_count": 97,
   "metadata": {},
   "outputs": [
    {
     "name": "stdout",
     "output_type": "stream",
     "text": [
      "7 2\n",
      "Given the initial list the maximum block size is: 7 and the index position is 2\n",
      "Given the initial list the maximum block size is correct: True and the index position is correct True\n"
     ]
    }
   ],
   "source": [
    "block_size, index = first_max(TEST_DATA_INITIAL_STATE)\n",
    "print('Given the initial list the maximum block size is: {} and the index position is {}'.format(block_size, \n",
    "                                                                                                index))\n",
    "print('Given the initial list the maximum block size is correct: {} and the index position is correct {}'.format(block_size == TEST_DATA_INITIAL_STATE_MAX_BLOCKS, \n",
    "                                                                                                index == TEST_DATA_INITITAL_STATE_MAX_BLOCKS_INDEX))"
   ]
  },
  {
   "cell_type": "code",
   "execution_count": 98,
   "metadata": {},
   "outputs": [],
   "source": [
    "import copy \n",
    "\n",
    "def redistribute_blocks(input_list, block_to_redistribute): \n",
    "    redistributed_list = copy.deepcopy(input_list)\n",
    "    length_of_list = len(redistributed_list)\n",
    "    \n",
    "    index = block_to_redistribute + 1\n",
    "    \n",
    "    if index == length_of_list: \n",
    "        index = 0 \n",
    "        \n",
    "    blocks_to_redistribute = redistributed_list[index - 1]\n",
    "    \n",
    "    redistributed_list[index - 1] = 0 \n",
    "    \n",
    "    while blocks_to_redistribute > 0:\n",
    "        redistributed_list[index] = redistributed_list[index] + 1\n",
    "        \n",
    "        index = index + 1\n",
    "        if index == length_of_list: \n",
    "            index = 0\n",
    "            \n",
    "        blocks_to_redistribute = blocks_to_redistribute - 1\n",
    "        \n",
    "    return redistributed_list"
   ]
  },
  {
   "cell_type": "code",
   "execution_count": 99,
   "metadata": {},
   "outputs": [
    {
     "name": "stdout",
     "output_type": "stream",
     "text": [
      "Given the initial list [0, 2, 7, 0] the next step looks like [2, 4, 1, 2]\n",
      "The redistributed list matches the expected next list: True\n"
     ]
    }
   ],
   "source": [
    "block_size, index = last_max(TEST_DATA_INITIAL_STATE)\n",
    "\n",
    "redistributed_list = []\n",
    "redistributed_list = redistribute_blocks(TEST_DATA_INITIAL_STATE, index)\n",
    "\n",
    "print('Given the initial list {} the next step looks like {}'.format(TEST_DATA_INITIAL_STATE,\n",
    "                                                                    redistributed_list))\n",
    "print('The redistributed list matches the expected next list: {}'.format(redistributed_list == TEST_DATA_SECOND_STATE))"
   ]
  },
  {
   "cell_type": "code",
   "execution_count": 104,
   "metadata": {},
   "outputs": [],
   "source": [
    "import copy \n",
    "\n",
    "def has_list_been_seen(list_of_lists, comparison):\n",
    "    found = False\n",
    "    \n",
    "    for item in list_of_lists:\n",
    "        if item == comparison:\n",
    "            found = True \n",
    "            \n",
    "    return found\n",
    "\n",
    "def rearrange_all_blocks(input_list): \n",
    "    lists_seen = []\n",
    "    list_seen = False\n",
    "    steps = 0\n",
    "    \n",
    "    redistributed_list = copy.deepcopy(input_list)\n",
    "    lists_seen.append(input_list)\n",
    "    \n",
    "    while not list_seen:\n",
    "    \n",
    "        _, index = first_max(redistributed_list)\n",
    "        redistributed_list = redistribute_blocks(redistributed_list, index)\n",
    "\n",
    "        if has_list_been_seen(lists_seen, redistributed_list):\n",
    "            list_seen = True\n",
    "    \n",
    "        lists_seen.append(redistributed_list)\n",
    "    \n",
    "        steps = steps + 1\n",
    "    \n",
    "    return (steps, redistributed_list)"
   ]
  },
  {
   "cell_type": "code",
   "execution_count": 107,
   "metadata": {},
   "outputs": [
    {
     "name": "stdout",
     "output_type": "stream",
     "text": [
      "For the input list I take 5 steps to end with this list: [2, 4, 1, 2]\n"
     ]
    }
   ],
   "source": [
    "TEST_DATA_INITIAL_STATE = [0,2,7,0]\n",
    "TEST_DATA_INITIAL_STATE_MAX_BLOCKS = 7\n",
    "TEST_DATA_INITITAL_STATE_MAX_BLOCKS_INDEX = 2 # The third bank\n",
    "TEST_DATA_SECOND_STATE = [2, 4, 1, 2]\n",
    "\n",
    "steps, redistributed_list = rearrange_all_blocks(TEST_DATA_INITIAL_STATE)\n",
    "print('For the input list I take {} steps to end with this list: {}'.format(steps, \n",
    "                                                                       redistributed_list))"
   ]
  },
  {
   "cell_type": "code",
   "execution_count": 108,
   "metadata": {},
   "outputs": [
    {
     "name": "stdout",
     "output_type": "stream",
     "text": [
      "It takesn 3156 steps to rearrange the puzzle data before an existing state is seen.\n"
     ]
    }
   ],
   "source": [
    "PUZZLE_DATA = [2,8,8,5,4,2,3,1,5,5,1,2,15,13,5,14]\n",
    "steps, redistributed_list = rearrange_all_blocks(PUZZLE_DATA)\n",
    "print('It takesn {} steps to rearrange the puzzle data before an existing state is seen.'.format(steps))"
   ]
  },
  {
   "cell_type": "markdown",
   "metadata": {},
   "source": [
    "> Out of curiosity, the debugger would also like to know the size of the loop: starting from a state that has already been seen, how many block redistribution cycles must be performed before that same state is seen again?\n",
    "\n",
    "> In the example above, 2 4 1 2 is seen again after four cycles, and so the answer in that example would be 4.\n",
    "\n",
    "> How many cycles are in the infinite loop that arises from the configuration in your puzzle input?"
   ]
  },
  {
   "cell_type": "code",
   "execution_count": 211,
   "metadata": {},
   "outputs": [],
   "source": [
    "import copy \n",
    "\n",
    "def has_list_been_seen(list_of_lists, comparison):\n",
    "    found = False\n",
    "    \n",
    "    for item in list_of_lists:\n",
    "        if item == comparison:\n",
    "            found = True \n",
    "            \n",
    "    return found\n",
    "\n",
    "def has_list_been_seen_more_than_twice(list_of_lists, comparison):\n",
    "    found = False\n",
    "    \n",
    "    for item in list_of_lists:\n",
    "        if item == comparison:\n",
    "  #          print('I have seen this list')\n",
    "  #          print(list_of_lists.count(item))\n",
    "            if list_of_lists.count(item) >= 2:\n",
    " #               print('more than and equal to twice')\n",
    "                found = True \n",
    "            \n",
    "    return found\n",
    "\n",
    "def rearrange_all_blocks_star2(input_list, lists_seen=[]): \n",
    "    list_seen = False\n",
    "    steps = 0\n",
    "    \n",
    "    redistributed_list = copy.deepcopy(input_list)\n",
    "    lists_seen.append(input_list)\n",
    "    \n",
    "    while not list_seen:\n",
    "    \n",
    "        _, index = first_max(redistributed_list)\n",
    "        redistributed_list = redistribute_blocks(redistributed_list, index)\n",
    "\n",
    "        if has_list_been_seen_more_than_twice(lists_seen, redistributed_list):\n",
    "            list_seen = True\n",
    "    \n",
    "        lists_seen.append(redistributed_list)\n",
    "    \n",
    "        steps = steps + 1\n",
    "    \n",
    "#   print('foobar')\n",
    "    return (steps, redistributed_list, lists_seen)\n",
    "\n",
    "def find_and_count_secondary_match(input_list): \n",
    "    steps = 0 \n",
    "#    print(input_list)\n",
    "    steps_to_find, repeated_list, found_lists = rearrange_all_blocks(input_list)\n",
    "#    print(repeated_list, steps_to_find)\n",
    "    \n",
    "    steps_to_second_match = 0\n",
    "    second_match_found = False\n",
    "    second_match_list = copy.deepcopy(repeated_list)\n",
    "    \n",
    "    while not second_match_found:         \n",
    "        steps , second_match_list, found_lists = rearrange_all_blocks_star2(second_match_list, found_lists)\n",
    "#        print(steps, 'steps to find match2')\n",
    "#        print(second_match_list, 'rearrange')\n",
    "        if second_match_list == repeated_list:\n",
    "#            print(steps, 'hit!')\n",
    "            second_match_found = True\n",
    "#            if found_lists.count(second_match_list) == 2:\n",
    "#        second_match_found = True\n",
    "        \n",
    "        found_lists.append(second_match_list)\n",
    "        steps_to_second_match = steps_to_second_match + 1\n",
    "        \n",
    "#    print(found_lists)\n",
    "    return steps\n",
    "    \n"
   ]
  },
  {
   "cell_type": "code",
   "execution_count": 213,
   "metadata": {},
   "outputs": [
    {
     "name": "stdout",
     "output_type": "stream",
     "text": [
      "From the first repeated list it takes 4 steps to find it again\n"
     ]
    }
   ],
   "source": [
    "TEST_DATA_INITIAL_STATE = [0,2,7,0]\n",
    "TEST_DATA_INITIAL_STATE_MAX_BLOCKS = 7\n",
    "TEST_DATA_INITITAL_STATE_MAX_BLOCKS_INDEX = 2 # The third bank\n",
    "TEST_DATA_SECOND_STATE = [2, 4, 1, 2]\n",
    "\n",
    "steps = find_and_count_secondary_match(TEST_DATA_INITIAL_STATE)\n",
    "print('From the first repeated list it takes {} steps to find it again'.format(steps))"
   ]
  },
  {
   "cell_type": "code",
   "execution_count": 216,
   "metadata": {},
   "outputs": [
    {
     "name": "stdout",
     "output_type": "stream",
     "text": [
      "It takesn 1610 steps to rearrange the puzzle data before an existing state is seen a second time.\n"
     ]
    }
   ],
   "source": [
    "PUZZLE_DATA = [2,8,8,5,4,2,3,1,5,5,1,2,15,13,5,14]\n",
    "steps = find_and_count_secondary_match(PUZZLE_DATA)\n",
    "print('It takesn {} steps to rearrange the puzzle data before an existing state is seen a second time.'.format(steps))"
   ]
  },
  {
   "cell_type": "code",
   "execution_count": null,
   "metadata": {},
   "outputs": [],
   "source": []
  }
 ],
 "metadata": {
  "kernelspec": {
   "display_name": "Python 3",
   "language": "python",
   "name": "python3"
  },
  "language_info": {
   "codemirror_mode": {
    "name": "ipython",
    "version": 3
   },
   "file_extension": ".py",
   "mimetype": "text/x-python",
   "name": "python",
   "nbconvert_exporter": "python",
   "pygments_lexer": "ipython3",
   "version": "3.5.2"
  }
 },
 "nbformat": 4,
 "nbformat_minor": 2
}
