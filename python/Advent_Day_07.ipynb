{
 "cells": [
  {
   "cell_type": "code",
   "execution_count": 1,
   "metadata": {},
   "outputs": [],
   "source": [
    "        "
   ]
  },
  {
   "cell_type": "code",
   "execution_count": 26,
   "metadata": {},
   "outputs": [],
   "source": [
    "def parse_input_file(file_name):\n",
    "    with open(file_name, 'r') as file_input:\n",
    "        TEST_INPUT = [line.rstrip('\\n') for line in file_input]\n",
    "    \n",
    "    nodes = {}\n",
    "    \n",
    "    for line in TEST_INPUT:\n",
    "        sentence = line.split()\n",
    "        key = sentence[0]\n",
    "        weight = int(sentence[1].rstrip(')').lstrip('('))\n",
    "    \n",
    "        index = 3\n",
    "        sub_nodes = []\n",
    "        for item in sentence[index:]:\n",
    "            sub_nodes.append(item.rstrip(','))\n",
    "            \n",
    "        nodes[key] = (AdventNode(key, weight), sub_nodes)\n",
    "        \n",
    "    return nodes\n",
    "        \n",
    "    \n",
    "    "
   ]
  },
  {
   "cell_type": "code",
   "execution_count": 32,
   "metadata": {},
   "outputs": [],
   "source": [
    "TEST_INPUT = parse_input_file('./assets/day7_test_input.txt')\n",
    "\n",
    "    \n",
    "def hacked_star1(parsed_input):\n",
    "    set_of_nodes = set(parsed_input.keys())\n",
    "    set_of_linked_nodes = set()\n",
    "\n",
    "    for key in parsed_input.keys():\n",
    "        for item in parsed_input[key][1]:\n",
    "            set_of_linked_nodes.add(item)\n",
    "        \n",
    "    return set_of_nodes - set_of_linked_nodes\n",
    "    "
   ]
  },
  {
   "cell_type": "code",
   "execution_count": 33,
   "metadata": {},
   "outputs": [
    {
     "name": "stdout",
     "output_type": "stream",
     "text": [
      "The root node of the test input is {'tknk'}\n"
     ]
    }
   ],
   "source": [
    "print('The root node of the test input is {}'.format(hacked_star1(TEST_INPUT)))"
   ]
  },
  {
   "cell_type": "code",
   "execution_count": 35,
   "metadata": {},
   "outputs": [
    {
     "name": "stdout",
     "output_type": "stream",
     "text": [
      "The root node of the puzzle input is {'bpvhwhh'}\n"
     ]
    }
   ],
   "source": [
    "PUZZLE_INPUT = parse_input_file('./assets/day7_puzzle_input.txt')\n",
    "print('The root node of the puzzle input is {}'.format(hacked_star1(PUZZLE_INPUT)))"
   ]
  },
  {
   "cell_type": "markdown",
   "metadata": {},
   "source": [
    "That got me a gold star."
   ]
  },
  {
   "cell_type": "code",
   "execution_count": 44,
   "metadata": {},
   "outputs": [],
   "source": [
    "class AdventNode():\n",
    "    def __init__(self, key, weight):\n",
    "        self.key = key\n",
    "        self.weight = weight \n",
    "        self.children = [] \n",
    "        \n",
    "    def add_child(self, node):\n",
    "        self.children.append(node)\n",
    "        \n",
    "    def visit_children(self):\n",
    "        for child in self.children:\n",
    "            child.visit_children()\n",
    "            \n",
    "        print(self.key)\n",
    "        \n",
    "    def read_weight(self, key):\n",
    "        if key == self.key:\n",
    "            return self.weight\n",
    "        else:\n",
    "            for child in self.children: \n",
    "                child.read_weight(key)\n",
    "                \n",
    "        return None"
   ]
  },
  {
   "cell_type": "code",
   "execution_count": 46,
   "metadata": {},
   "outputs": [
    {
     "name": "stdout",
     "output_type": "stream",
     "text": [
      "['pbga', 'havc', 'qoyq']\n",
      "['ktlj', 'cntj', 'xhth']\n",
      "['gyxo', 'ebii', 'jptl']\n",
      "['ugml', 'padx', 'fwft']\n"
     ]
    }
   ],
   "source": [
    "TEST_INPUT = parse_input_file('./assets/day7_test_input.txt')\n",
    "\n",
    "for key in TEST_INPUT.keys():\n",
    "    if len(TEST_INPUT[key][1]) != 0:\n",
    "        for node in TEST_INPUT[key][1]:\n",
    "            TEST_INPUT[key][0].add_child(TEST_INPUT[node][0])\n",
    "            \n",
    "        print(TEST_INPUT[key][1])\n",
    "        \n",
    "        \n",
    "        "
   ]
  },
  {
   "cell_type": "code",
   "execution_count": null,
   "metadata": {},
   "outputs": [],
   "source": []
  }
 ],
 "metadata": {
  "kernelspec": {
   "display_name": "Python 3",
   "language": "python",
   "name": "python3"
  },
  "language_info": {
   "codemirror_mode": {
    "name": "ipython",
    "version": 3
   },
   "file_extension": ".py",
   "mimetype": "text/x-python",
   "name": "python",
   "nbconvert_exporter": "python",
   "pygments_lexer": "ipython3",
   "version": "3.5.2"
  }
 },
 "nbformat": 4,
 "nbformat_minor": 2
}
