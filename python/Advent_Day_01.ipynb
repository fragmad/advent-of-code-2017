{
 "cells": [
  {
   "cell_type": "markdown",
   "metadata": {},
   "source": [
    ">The captcha requires you to review a sequence of digits (your puzzle input) and find the sum of all digits that match the next digit in the list. The list is circular, so the digit after the last digit is the first digit in the list.\n",
    "\n",
    ">For example:\n",
    "\n",
    "> - 1122 produces a sum of 3 (1 + 2) because the first digit (1) matches the second digit and the third digit (2) matches the fourth digit.\n",
    "> - 1111 produces 4 because each digit (all 1) matches the next. \n",
    "> - 1234 produces 0 because no digit matches the next.\n",
    "> - 91212129 produces 9 because the only digit that matches the next one is the last digit, 9.\n",
    "\n",
    ">What is the solution to your captcha?\n",
    "\n"
   ]
  },
  {
   "cell_type": "code",
   "execution_count": 1,
   "metadata": {},
   "outputs": [],
   "source": [
    "TEST_INPUT1 = [1,1,2,2]\n",
    "TEST_ANSWER1 = 3\n",
    "TEST_INPUT2 = [1,1,1,1]\n",
    "TEST_ANSWER2 = 4\n",
    "TEST_INPUT3 = [1,2,3,4]\n",
    "TEST_ANSWER3 = 0\n",
    "TEST_INPUT4 = [9,1,2,1,2,1,2,9]\n",
    "TEST_ANSWER4 = 9\n"
   ]
  },
  {
   "cell_type": "code",
   "execution_count": 69,
   "metadata": {},
   "outputs": [],
   "source": [
    "def is_matched_pair(input_pair):\n",
    "    value = 0\n",
    "\n",
    "    if input_pair[0] == input_pair[1]:\n",
    "        value = input_pair[0]\n",
    "        \n",
    "    return value\n",
    "\n",
    "    \n",
    "def solve_captcha(input_list):\n",
    "    list_sum = 0\n",
    "    length_of_list = len(input_list)\n",
    "    list_of_matches = []\n",
    "\n",
    "    if input_list[length_of_list - 1] == input_list[0]:\n",
    "        list_of_matches.append(input_list[length_of_list - 1])\n",
    "    \n",
    "    for value in zip(input_list, input_list[1:]):\n",
    "        list_of_matches.append(is_matched_pair(value))\n",
    "        \n",
    "    return sum(list_of_matches)"
   ]
  },
  {
   "cell_type": "code",
   "execution_count": 70,
   "metadata": {},
   "outputs": [
    {
     "name": "stdout",
     "output_type": "stream",
     "text": [
      "My captcha solver finds the answer for test input 1: True\n",
      "Answer 1: 3 Expected: 3\n",
      "My captcha solver finds the answer for test input 2: True\n",
      "Answer 2: 4 Expected: 4\n",
      "My captcha solver finds the answer for test input 3: True\n",
      "Answer 3: 0 Expected: 0\n",
      "My captcha solver finds the answer for test input 4: True\n",
      "Answer 4: 9 Expected: 9\n"
     ]
    }
   ],
   "source": [
    "print('My captcha solver finds the answer for test input 1:', solve_captcha(TEST_INPUT1) == TEST_ANSWER1)\n",
    "print('Answer 1:', solve_captcha(TEST_INPUT1), 'Expected:', TEST_ANSWER1)\n",
    "print('My captcha solver finds the answer for test input 2:', solve_captcha(TEST_INPUT2) == TEST_ANSWER2)\n",
    "print('Answer 2:', solve_captcha(TEST_INPUT2), 'Expected:', TEST_ANSWER2)\n",
    "print('My captcha solver finds the answer for test input 3:', solve_captcha(TEST_INPUT3) == TEST_ANSWER3)\n",
    "print('Answer 3:', solve_captcha(TEST_INPUT3), 'Expected:', TEST_ANSWER3)\n",
    "print('My captcha solver finds the answer for test input 4:', solve_captcha(TEST_INPUT4) == TEST_ANSWER4)\n",
    "print('Answer 4:', solve_captcha(TEST_INPUT4), 'Expected:', TEST_ANSWER4)\n"
   ]
  },
  {
   "cell_type": "code",
   "execution_count": 77,
   "metadata": {},
   "outputs": [
    {
     "name": "stdout",
     "output_type": "stream",
     "text": [
      "My solution to the puzzle input is: 1393\n"
     ]
    }
   ],
   "source": [
    "puzzle_input = \"5994521226795838486188872189952551475352929145357284983463678944777228139398117649129843853837124228353689551178129353548331779783742915361343229141538334688254819714813664439268791978215553677772838853328835345484711229767477729948473391228776486456686265114875686536926498634495695692252159373971631543594656954494117149294648876661157534851938933954787612146436571183144494679952452325989212481219139686138139314915852774628718443532415524776642877131763359413822986619312862889689472397776968662148753187767793762654133429349515324333877787925465541588584988827136676376128887819161672467142579261995482731878979284573246533688835226352691122169847832943513758924194232345988726741789247379184319782387757613138742817826316376233443521857881678228694863681971445442663251423184177628977899963919997529468354953548612966699526718649132789922584524556697715133163376463256225181833257692821331665532681288216949451276844419154245423434141834913951854551253339785533395949815115622811565999252555234944554473912359674379862182425695187593452363724591541992766651311175217218144998691121856882973825162368564156726989939993412963536831593196997676992942673571336164535927371229823236937293782396318237879715612956317715187757397815346635454412183198642637577528632393813964514681344162814122588795865169788121655353319233798811796765852443424783552419541481132132344487835757888468196543736833342945718867855493422435511348343711311624399744482832385998592864795271972577548584967433917322296752992127719964453376414665576196829945664941856493768794911984537445227285657716317974649417586528395488789946689914972732288276665356179889783557481819454699354317555417691494844812852232551189751386484638428296871436139489616192954267794441256929783839652519285835238736142997245189363849356454645663151314124885661919451447628964996797247781196891787171648169427894282768776275689124191811751135567692313571663637214298625367655969575699851121381872872875774999172839521617845847358966264291175387374464425566514426499166813392768677233356646752273398541814142523651415521363267414564886379863699323887278761615927993953372779567675\"\n",
    "puzzle_list = []\n",
    "for i in puzzle_input:\n",
    "    puzzle_list.append(int(i))\n",
    "\n",
    "print('My solution to the puzzle input is:', solve_captcha(puzzle_list))"
   ]
  },
  {
   "cell_type": "markdown",
   "metadata": {},
   "source": [
    "I have earned the gold start for the first half. Time to consider the second half of the problem. \n",
    "\n",
    ">Now, instead of considering the next digit, it wants you to consider the digit halfway around the circular list. That is, if your list contains 10 items, only include a digit in your sum if the digit 10/2 = 5 steps forward matches it. Fortunately, your list has an even number of elements.\n",
    "\n",
    ">For example:\n",
    "\n",
    "> - 1212 produces 6: the list contains 4 items, and all four digits match the digit 2 items ahead.\n",
    "> - 1221 produces 0, because every comparison is between a 1 and a 2.\n",
    "> - 123425 produces 4, because both 2s match each other, but no other digit has a match.\n",
    "> - 123123 produces 12.\n",
    "> - 12131415 produces 4.\n"
   ]
  },
  {
   "cell_type": "code",
   "execution_count": null,
   "metadata": {},
   "outputs": [],
   "source": []
  }
 ],
 "metadata": {
  "kernelspec": {
   "display_name": "Python 3",
   "language": "python",
   "name": "python3"
  },
  "language_info": {
   "codemirror_mode": {
    "name": "ipython",
    "version": 3
   },
   "file_extension": ".py",
   "mimetype": "text/x-python",
   "name": "python",
   "nbconvert_exporter": "python",
   "pygments_lexer": "ipython3",
   "version": "3.5.2"
  }
 },
 "nbformat": 4,
 "nbformat_minor": 2
}
