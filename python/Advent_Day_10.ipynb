{
 "cells": [
  {
   "cell_type": "markdown",
   "metadata": {},
   "source": [
    "# --- Day 10: Knot Hash ---\n",
    "\n",
    "> You come across some programs that are trying to implement a software emulation of a hash based on knot-tying. The hash these programs are implementing isn't very strong, but you decide to help them anyway. You make a mental note to remind the Elves later not to invent their own cryptographic functions.\n",
    "\n",
    "> This hash function simulates tying a knot in a circle of string with 256 marks on it. Based on the input to be hashed, the function repeatedly selects a span of string, brings the ends together, and gives the span a half-twist to reverse the order of the marks within it. After doing this many times, the order of the marks is used to build the resulting hash.\n",
    "\n",
    "      4--5   pinch   4  5           4   1\n",
    "     /    \\  5,0,1  / \\/ \\  twist  / \\ / \\\n",
    "    3      0  -->  3      0  -->  3   X   0\n",
    "     \\    /         \\ /\\ /         \\ / \\ /\n",
    "      2--1           2  1           2   5\n",
    "\n",
    "> To achieve this, begin with a list of numbers from 0 to 255, a current position which begins at 0 (the first element in the list), a skip size (which starts at 0), and a sequence of lengths (your puzzle input). Then, for each length:\n",
    "\n",
    "- Reverse the order of that length of elements in the list, starting with the element at the current position.\n",
    "- Move the current position forward by that length plus the skip size.\n",
    "- Increase the skip size by one.\n",
    "\n",
    "> The list is circular; if the current position and the length try to reverse elements beyond the end of the list, the operation reverses using as many extra elements as it needs from the front of the list. If the current position moves past the end of the list, it wraps around to the front. Lengths larger than the size of the list are invalid.\n",
    "\n",
    "> Here's an example using a smaller list:\n",
    "\n",
    "> Suppose we instead only had a circular list containing five elements, 0, 1, 2, 3, 4, and were given input lengths of 3, 4, 1, 5.\n",
    "\n",
    "- The list begins as [0] 1 2 3 4 (where square brackets indicate the current position).\n",
    "- The first length, 3, selects ([0] 1 2) 3 4 (where parentheses indicate the sublist to be reversed).\n",
    "- After reversing that section (0 1 2 into 2 1 0), we get ([2] 1 0) 3 4.\n",
    "- Then, the current position moves forward by the length, 3, plus the skip size, 0: 2 1 0 [3] 4. Finally, the skip size increases to 1.\n",
    "- The second length, 4, selects a section which wraps: 2 1) 0 ([3] 4.\n",
    "- The sublist 3 4 2 1 is reversed to form 1 2 4 3: 4 3) 0 ([1] 2.\n",
    "- The current position moves forward by the length plus the skip size, a total of 5, causing it not to move because it wraps around: 4 3 0 [1] 2. The skip size increases to 2.\n",
    "- The third length, 1, selects a sublist of a single element, and so reversing it has no effect.\n",
    "- The current position moves forward by the length (1) plus the skip size (2): 4 [3] 0 1 2. The skip size increases to 3.\n",
    "- The fourth length, 5, selects every element starting with the second: 4) ([3] 0 1 2. Reversing this sublist (3 0 1 2 4 into 4 2 1 0 3) produces: 3) ([4] 2 1 0.\n",
    "- Finally, the current position moves forward by 8: 3 4 2 1 [0]. The skip size increases to 4.\n",
    "\n",
    "> In this example, the first two numbers in the list end up being 3 and 4; to check the process, you can multiply them together to produce 12.\n",
    "\n",
    "> However, you should instead use the standard list size of 256 (with values 0 to 255) and the sequence of lengths in your puzzle input. Once this process is complete, what is the result of multiplying the first two numbers in the list?"
   ]
  },
  {
   "cell_type": "code",
   "execution_count": 845,
   "metadata": {},
   "outputs": [],
   "source": [
    "def fetch_sublist(sublist_length, sublist_start, input_list):     \n",
    "    sublist = []\n",
    "    fetched_indexes = [] \n",
    "    \n",
    "    input_list_length = len(input_list)\n",
    "    index = sublist_start \n",
    "        \n",
    "        \n",
    "    for offset in range(sublist_length):        \n",
    "        while index >= input_list_length: \n",
    "            index = abs(index - input_list_length)            \n",
    "            \n",
    "        sublist.append(input_list[index])\n",
    "        \n",
    "        fetched_indexes.append(index)\n",
    "        index = index + 1                \n",
    "        \n",
    "    return (sublist, fetched_indexes)"
   ]
  },
  {
   "cell_type": "code",
   "execution_count": 846,
   "metadata": {},
   "outputs": [],
   "source": [
    "def insert_sublist(input_list, sublist, fetched_indexes): \n",
    "    \n",
    "    i = 0\n",
    "    for index in fetched_indexes:\n",
    "        input_list[index] = sublist[i]\n",
    "        i += 1\n",
    "        \n",
    "    return input_list"
   ]
  },
  {
   "cell_type": "code",
   "execution_count": 847,
   "metadata": {},
   "outputs": [],
   "source": [
    "def calculate_hash(input_lengths, list_length=256):\n",
    "    list_of_integers = list(range(list_length))    \n",
    "    position = 0 \n",
    "    skip = 0 \n",
    "    \n",
    "    for length in input_lengths:                 \n",
    "        sublist, fetched_indexes = fetch_sublist(length, position, list_of_integers) \n",
    "        sublist.reverse()\n",
    "\n",
    "        \n",
    "        if length != 0:\n",
    "            list_of_integers = insert_sublist(list_of_integers,sublist, fetched_indexes) \n",
    "            \n",
    "        \n",
    "            \n",
    "        if length >= list_length:\n",
    "            position = position\n",
    "        else: \n",
    "            position = position + length + skip       \n",
    "          \n",
    "        skip = skip + 1\n",
    "        \n",
    "    return list_of_integers[0] * list_of_integers[1]"
   ]
  },
  {
   "cell_type": "code",
   "execution_count": 848,
   "metadata": {},
   "outputs": [
    {
     "name": "stdout",
     "output_type": "stream",
     "text": [
      "For Test 1's input of [3, 4, 1, 5] the resulting hash is 12\n"
     ]
    }
   ],
   "source": [
    "TEST1_INPUT = [3, 4, 1, 5]\n",
    "TEST1_ANSWER = 12\n",
    "\n",
    "print(\"For Test 1's input of {} the resulting hash is {}\".format(TEST1_INPUT,\n",
    "                                                                 calculate_hash(TEST1_INPUT, 5),\n",
    "                                                                TEST1_ANSWER))"
   ]
  },
  {
   "cell_type": "code",
   "execution_count": 849,
   "metadata": {},
   "outputs": [
    {
     "name": "stdout",
     "output_type": "stream",
     "text": [
      "My answer for star 1 is 9656.\n",
      "The first answer I gave was: 15006 which is too high\n"
     ]
    }
   ],
   "source": [
    "PUZZLE_INPUT = []\n",
    "\n",
    "with open('./assets/day10_puzzle_input.txt','r') as puzzle_file: \n",
    "    PUZZLE_INPUT_STRING  = list(puzzle_file.read().rstrip('\\n').split(','))\n",
    "    for item in PUZZLE_INPUT_STRING: \n",
    "        PUZZLE_INPUT.append(int(item))\n",
    "\n",
    "PUZZLE_ANSWER = calculate_hash(PUZZLE_INPUT)\n",
    "print('My answer for star 1 is {}.'.format(PUZZLE_ANSWER))\n",
    "print('The first answer I gave was: {} which is too high'.format('15006'))\n"
   ]
  },
  {
   "cell_type": "markdown",
   "metadata": {},
   "source": [
    "I have the gold star finally!\n",
    "\n",
    "The error what was by my if length  >= list_length statement including length + steps. \n",
    "\n",
    "I should have read the question again and again. \n"
   ]
  },
  {
   "cell_type": "code",
   "execution_count": 883,
   "metadata": {},
   "outputs": [],
   "source": [
    "def convert_input_into_ASCII(input_list):\n",
    "    list_of_ascii = []\n",
    "    \n",
    "    for item in input_list:\n",
    "        list_of_ascii.append(item+48)\n",
    "    \n",
    "    \n",
    "    return list_of_ascii\n",
    "\n",
    "def append_end_lengths(input_list):\n",
    "    return input_list + [17, 31, 73, 47, 23]\n",
    "    \n",
    "    "
   ]
  },
  {
   "cell_type": "code",
   "execution_count": 884,
   "metadata": {},
   "outputs": [
    {
     "name": "stdout",
     "output_type": "stream",
     "text": [
      "[50, 48, 54, 54, 51, 50, 53, 53, 49, 51, 49, 54, 53, 56, 48, 50, 51, 56, 49, 53, 55, 50, 53, 52, 50, 52, 49, 51, 51, 50, 49, 54, 48, 49, 51]\n",
      "[50, 48, 54, 54, 51, 50, 53, 53, 49, 51, 49, 54, 53, 56, 48, 50, 51, 56, 49, 53, 55, 50, 53, 52, 50, 52, 49, 51, 51, 50, 49, 54, 48, 49, 51, 17, 31, 73, 47, 23]\n"
     ]
    }
   ],
   "source": [
    "PUZZLE_INPUT = []\n",
    "\n",
    "with open('./assets/day10_puzzle_input.txt','r') as puzzle_file: \n",
    "    PUZZLE_INPUT_STRING  = puzzle_file.read().rstrip('\\n')\n",
    "    PUZZLE_INPUT_STRING = PUZZLE_INPUT_STRING.replace(',','')\n",
    "    for item in PUZZLE_INPUT_STRING: \n",
    "        PUZZLE_INPUT.append(int(item))\n",
    "        \n",
    "print(convert_input_into_ASCII(PUZZLE_INPUT))\n",
    "print(append_end_lengths(convert_input_into_ASCII(PUZZLE_INPUT)))"
   ]
  },
  {
   "cell_type": "code",
   "execution_count": 1051,
   "metadata": {},
   "outputs": [],
   "source": [
    "import operator\n",
    "import functools\n",
    "\n",
    "def make_dense_hash(sparse_hash):    \n",
    "    dense_hash = []    \n",
    "    block_start = 0    \n",
    "    for block in range(16):        \n",
    "        block_elements = [] \n",
    "        block_end = (block * 16) + 1\n",
    "        index = block_start\n",
    "        \n",
    "        while index < block_end:            \n",
    "            block_elements.append(sparse_hash[index])\n",
    "#            print(index)\n",
    "#            print(block_elements)            \n",
    "            index = index + 1         \n",
    "        \n",
    "        dense_hash.append(functools.reduce(operator.xor, block_elements))\n",
    "        block_start = block_end           \n",
    "        \n",
    "    return dense_hash"
   ]
  },
  {
   "cell_type": "code",
   "execution_count": 1060,
   "metadata": {},
   "outputs": [],
   "source": [
    "def make_human_readable_dense_hash(dense_hash): \n",
    "    print('human readable')\n",
    "    human_string = \"\"\n",
    "    #print(dense_hash)\n",
    "    for block in dense_hash: \n",
    "        human_string = human_string + format(block, '02x')\n",
    "        #print(block)\n",
    "    \n",
    "    print(human_string)\n",
    "    print(len(human_string))\n",
    "    return human_string"
   ]
  },
  {
   "cell_type": "code",
   "execution_count": 1068,
   "metadata": {},
   "outputs": [],
   "source": [
    "import copy \n",
    "\n",
    "def calculate_hash_star2(input_string, input_lengths, list_length=256):\n",
    "    input_string = input_string  \n",
    "    position = 0 \n",
    "    skip = 0 \n",
    "    \n",
    "    ascii_input_string = convert_input_into_ASCII(input_string)\n",
    "    input_lengths = append_end_lengths(input_string)\n",
    "    \n",
    "    for round_number in range(64):\n",
    "        for length in input_lengths:                 \n",
    "            sublist, fetched_indexes = fetch_sublist(length, position, input_lengths) \n",
    "            sublist.reverse()\n",
    "        \n",
    "            if length != 0:\n",
    "                list_of_integers = insert_sublist(list_of_integers,sublist, fetched_indexes)            \n",
    "                    \n",
    "            if length >= list_length:\n",
    "                position = position\n",
    "            else: \n",
    "                position = position + length + skip       \n",
    "          \n",
    "            skip = skip + 1\n",
    "            \n",
    "    \n",
    "    sparse_hash = copy.deepcopy(list_of_integers)\n",
    "    dense_hash = make_dense_hash(sparse_hash)\n",
    "    human_readable = make_human_readable_dense_hash(dense_hash)\n",
    "    \n",
    "    \n",
    "    return human_readable\n"
   ]
  },
  {
   "cell_type": "code",
   "execution_count": 1070,
   "metadata": {},
   "outputs": [
    {
     "ename": "IndexError",
     "evalue": "list assignment index out of range",
     "output_type": "error",
     "traceback": [
      "\u001b[0;31m---------------------------------------------------------------------------\u001b[0m",
      "\u001b[0;31mIndexError\u001b[0m                                Traceback (most recent call last)",
      "\u001b[0;32m<ipython-input-1070-bec410874298>\u001b[0m in \u001b[0;36m<module>\u001b[0;34m()\u001b[0m\n\u001b[1;32m      9\u001b[0m \u001b[0mPUZZLE_INPUT\u001b[0m \u001b[0;34m=\u001b[0m \u001b[0mappend_end_lengths\u001b[0m\u001b[0;34m(\u001b[0m\u001b[0mconvert_input_into_ASCII\u001b[0m\u001b[0;34m(\u001b[0m\u001b[0mPUZZLE_INPUT\u001b[0m\u001b[0;34m)\u001b[0m\u001b[0;34m)\u001b[0m\u001b[0;34m\u001b[0m\u001b[0m\n\u001b[1;32m     10\u001b[0m \u001b[0;34m\u001b[0m\u001b[0m\n\u001b[0;32m---> 11\u001b[0;31m \u001b[0mprint\u001b[0m\u001b[0;34m(\u001b[0m\u001b[0;34m'The hash of my input is: {}'\u001b[0m\u001b[0;34m.\u001b[0m\u001b[0mformat\u001b[0m\u001b[0;34m(\u001b[0m\u001b[0mcalculate_hash_star2\u001b[0m\u001b[0;34m(\u001b[0m\u001b[0mPUZZLE_INPUT\u001b[0m\u001b[0;34m,\u001b[0m \u001b[0mPUZZLE_INPUT\u001b[0m\u001b[0;34m)\u001b[0m\u001b[0;34m)\u001b[0m\u001b[0;34m)\u001b[0m\u001b[0;34m\u001b[0m\u001b[0m\n\u001b[0m",
      "\u001b[0;32m<ipython-input-1068-ed843032cd2f>\u001b[0m in \u001b[0;36mcalculate_hash_star2\u001b[0;34m(input_string, input_lengths, list_length)\u001b[0m\n\u001b[1;32m     16\u001b[0m \u001b[0;34m\u001b[0m\u001b[0m\n\u001b[1;32m     17\u001b[0m             \u001b[0;32mif\u001b[0m \u001b[0mlength\u001b[0m \u001b[0;34m!=\u001b[0m \u001b[0;36m0\u001b[0m\u001b[0;34m:\u001b[0m\u001b[0;34m\u001b[0m\u001b[0m\n\u001b[0;32m---> 18\u001b[0;31m                 \u001b[0mlist_of_integers\u001b[0m \u001b[0;34m=\u001b[0m \u001b[0minsert_sublist\u001b[0m\u001b[0;34m(\u001b[0m\u001b[0mlist_of_integers\u001b[0m\u001b[0;34m,\u001b[0m\u001b[0msublist\u001b[0m\u001b[0;34m,\u001b[0m \u001b[0mfetched_indexes\u001b[0m\u001b[0;34m)\u001b[0m\u001b[0;34m\u001b[0m\u001b[0m\n\u001b[0m\u001b[1;32m     19\u001b[0m \u001b[0;34m\u001b[0m\u001b[0m\n\u001b[1;32m     20\u001b[0m             \u001b[0;32mif\u001b[0m \u001b[0mlength\u001b[0m \u001b[0;34m>=\u001b[0m \u001b[0mlist_length\u001b[0m\u001b[0;34m:\u001b[0m\u001b[0;34m\u001b[0m\u001b[0m\n",
      "\u001b[0;32m<ipython-input-846-77c27bbf7a54>\u001b[0m in \u001b[0;36minsert_sublist\u001b[0;34m(input_list, sublist, fetched_indexes)\u001b[0m\n\u001b[1;32m      3\u001b[0m     \u001b[0mi\u001b[0m \u001b[0;34m=\u001b[0m \u001b[0;36m0\u001b[0m\u001b[0;34m\u001b[0m\u001b[0m\n\u001b[1;32m      4\u001b[0m     \u001b[0;32mfor\u001b[0m \u001b[0mindex\u001b[0m \u001b[0;32min\u001b[0m \u001b[0mfetched_indexes\u001b[0m\u001b[0;34m:\u001b[0m\u001b[0;34m\u001b[0m\u001b[0m\n\u001b[0;32m----> 5\u001b[0;31m         \u001b[0minput_list\u001b[0m\u001b[0;34m[\u001b[0m\u001b[0mindex\u001b[0m\u001b[0;34m]\u001b[0m \u001b[0;34m=\u001b[0m \u001b[0msublist\u001b[0m\u001b[0;34m[\u001b[0m\u001b[0mi\u001b[0m\u001b[0;34m]\u001b[0m\u001b[0;34m\u001b[0m\u001b[0m\n\u001b[0m\u001b[1;32m      6\u001b[0m         \u001b[0mi\u001b[0m \u001b[0;34m+=\u001b[0m \u001b[0;36m1\u001b[0m\u001b[0;34m\u001b[0m\u001b[0m\n\u001b[1;32m      7\u001b[0m \u001b[0;34m\u001b[0m\u001b[0m\n",
      "\u001b[0;31mIndexError\u001b[0m: list assignment index out of range"
     ]
    }
   ],
   "source": [
    "PUZZLE_INPUT = []\n",
    "\n",
    "with open('./assets/day10_puzzle_input.txt','r') as puzzle_file: \n",
    "    PUZZLE_INPUT_STRING  = puzzle_file.read().rstrip('\\n')\n",
    "    PUZZLE_INPUT_STRING = PUZZLE_INPUT_STRING.replace(',','')\n",
    "    for item in PUZZLE_INPUT_STRING: \n",
    "        PUZZLE_INPUT.append(int(item))\n",
    "        \n",
    "PUZZLE_INPUT = append_end_lengths(convert_input_into_ASCII(PUZZLE_INPUT))\n",
    "\n",
    "print('The hash of my input is: {}'.format(calculate_hash_star2(PUZZLE_INPUT, PUZZLE_INPUT)))"
   ]
  },
  {
   "cell_type": "code",
   "execution_count": null,
   "metadata": {},
   "outputs": [],
   "source": []
  },
  {
   "cell_type": "code",
   "execution_count": null,
   "metadata": {},
   "outputs": [],
   "source": []
  }
 ],
 "metadata": {
  "kernelspec": {
   "display_name": "Python 3",
   "language": "python",
   "name": "python3"
  },
  "language_info": {
   "codemirror_mode": {
    "name": "ipython",
    "version": 3
   },
   "file_extension": ".py",
   "mimetype": "text/x-python",
   "name": "python",
   "nbconvert_exporter": "python",
   "pygments_lexer": "ipython3",
   "version": "3.5.2"
  }
 },
 "nbformat": 4,
 "nbformat_minor": 2
}
