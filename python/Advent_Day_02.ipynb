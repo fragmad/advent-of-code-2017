{
 "cells": [
  {
   "cell_type": "markdown",
   "metadata": {},
   "source": [
    "> The spreadsheet consists of rows of apparently-random numbers. To make sure the recovery process is on the right track, they need you to calculate the spreadsheet's checksum. For each row, determine the difference between the largest value and the smallest value; the checksum is the sum of all of these differences.\n",
    "\n",
    "> For example, given the following spreadsheet:\n",
    "\n",
    "> 5 1 9 5\n",
    "\n",
    "> 7 5 3\n",
    "\n",
    "> 2 4 6 8\n",
    "\n",
    "> The first row's largest and smallest values are 9 and 1, and their difference is 8.\n",
    "> The second row's largest and smallest values are 7 and 3, and their difference is 4.\n",
    "> The third row's difference is 6.\n",
    "> In this example, the spreadsheet's checksum would be 8 + 4 + 6 = 18.\n",
    "\n",
    "> What is the checksum for the spreadsheet in your puzzle input?"
   ]
  },
  {
   "cell_type": "code",
   "execution_count": 134,
   "metadata": {},
   "outputs": [],
   "source": [
    "TEST_DATA = [\n",
    "    [5,1,9,5],\n",
    "    [7,5,3],\n",
    "    [2,4,6,8],    \n",
    "]\n",
    "\n",
    "TEST_ANSWER = 18"
   ]
  },
  {
   "cell_type": "code",
   "execution_count": 135,
   "metadata": {},
   "outputs": [],
   "source": [
    "def calculate_row_checksum(input_row): \n",
    "    lowest = input_row[0]\n",
    "    maximum = input_row[0]\n",
    "    \n",
    "    for item in input_row: \n",
    "        if item < lowest: \n",
    "            lowest = item\n",
    "        if item > maximum: \n",
    "            maximum = item\n",
    "    \n",
    "#    print((maximum, lowest), 'max/low')\n",
    "#    print(maximum - lowest, 'difference')\n",
    "    return maximum - lowest\n",
    "\n",
    "def checksum_spreadsheet(input_sheet):\n",
    "    row_checksums = [] \n",
    "    \n",
    "    for row in input_sheet: \n",
    "        row_checksums.append(calculate_row_checksum(row))\n",
    "        \n",
    "    return sum(row_checksums)\n",
    "    "
   ]
  },
  {
   "cell_type": "code",
   "execution_count": 136,
   "metadata": {},
   "outputs": [
    {
     "name": "stdout",
     "output_type": "stream",
     "text": [
      "My checksum finder gets the answer for the test data: True\n",
      "Answer 1: 18 Expected: 18\n"
     ]
    }
   ],
   "source": [
    "print('My checksum finder gets the answer for the test data:', checksum_spreadsheet(TEST_DATA) == TEST_ANSWER)\n",
    "print('Answer 1:', checksum_spreadsheet(TEST_DATA), 'Expected:', TEST_ANSWER)"
   ]
  },
  {
   "cell_type": "code",
   "execution_count": 153,
   "metadata": {},
   "outputs": [
    {
     "name": "stdout",
     "output_type": "stream",
     "text": [
      "My checksum finds this answer for the puzzle data: 45351\n"
     ]
    }
   ],
   "source": [
    "PUZZLE_DATA = [\n",
    "    [3093, 749, 3469,142,2049,3537,1596,3035,2424,3982,3290,125,249,131,118,3138],\n",
    "    [141, 677, 2705,2404,2887,2860,1123,2714,117,1157,2607,1800,153,130,1794,3272],\n",
    "    [182, 93, 2180,114,103,1017,95,580,2179,2470,2487,2806,1574,1325,1898,1706],\n",
    "    [3753, 233, 3961,3747,3479,3597,1303,2612,4043,1815,3318,737,197,3943,239,254],\n",
    "    [113, 147, 961,157,3514,3045,1270,3528,1369,3377,492,156,1410,3251,1839,1249],\n",
    "    [3948, 3651, 888,3631,253,220,4266,1284,3595,237,2138,3799,2319,254,267,1182],\n",
    "    [399, 446, 795,653,154,762,140,487,750,457,730,150,175,841,323,492],\n",
    "    [999, 979, 103,99,1544,1404,100,1615,840,92,1552,1665,1686,76,113,1700],\n",
    "    [4049, 182, 3583,1712,200,3326,3944,715,213,1855,2990,3621,2560,842,249,2082],\n",
    "    [2610, 4749, 2723,2915,2189,3911,124,164,1895,3095,3992,134,127,4229,3453,4428],\n",
    "    [105, 692, 101,150,193,755,84,185,622,851,706,251,86,408,774,831],\n",
    "    [238, 217, 224,1409,1850,2604,363,265,596,2933,2641,2277,803,2557,1399,237],\n",
    "    [304, 247, 192,4369,997,5750,85,1248,4718,3888,5228,5116,5880,5348,6052,245],\n",
    "    [238, 373, 228,395,86,59,289,87,437,384,233,79,470,403,441,352],\n",
    "    [151, 3473, 1435,87,1517,1480,140,2353,1293,118,163,3321,2537,3061,1532,3402],\n",
    "    [127, 375, 330,257,220,295,145,335,304,165,151,141,289,256,195,272]    \n",
    "]\n",
    "\n",
    "\n",
    "print('My checksum finds this answer for the puzzle data:', checksum_spreadsheet(PUZZLE_DATA))\n",
    "\n",
    "PUZZLE_ANSWER = checksum_spreadsheet(PUZZLE_DATA)"
   ]
  },
  {
   "cell_type": "markdown",
   "metadata": {},
   "source": [
    "I have been rewarded with a gold star! "
   ]
  },
  {
   "cell_type": "markdown",
   "metadata": {},
   "source": [
    ">It sounds like the goal is to find the only two numbers in each row where one evenly divides the other - that is, where the result of the division operation is a whole number. They would like you to find those numbers on each line, divide them, and add up each line's result.\n",
    "\n",
    ">For example, given the following spreadsheet:\n",
    "\n",
    ">5 9 2 8\n",
    "\n",
    ">9 4 7 3\n",
    "\n",
    ">3 8 6 5\n",
    "\n",
    ">In the first row, the only two numbers that evenly divide are 8 and 2; the result of this division is 4.\n",
    ">In the second row, the two numbers are 9 and 3; the result is 3.\n",
    ">In the third row, the result is 2.\n",
    ">In this example, the sum of the results would be 4 + 3 + 2 = 9.\n",
    "\n",
    ">What is the sum of each row's result in your puzzle input"
   ]
  },
  {
   "cell_type": "code",
   "execution_count": 145,
   "metadata": {},
   "outputs": [],
   "source": [
    "TEST_DATA2 = [\n",
    "    [5, 9, 2, 8],\n",
    "    [9, 4, 7, 3],\n",
    "    [3, 8, 6, 5],    \n",
    "]\n",
    "\n",
    "TEST_ANSWER2 = 9"
   ]
  },
  {
   "cell_type": "code",
   "execution_count": 146,
   "metadata": {},
   "outputs": [],
   "source": [
    "def calculate_row_checksum_star_two(input_row):        \n",
    "    row_division = 0 \n",
    "                   \n",
    "    for item1 in input_row:\n",
    "        for item2 in input_row: \n",
    "            if item1 != item2:\n",
    "                candidate = item1 % item2\n",
    "                if candidate == 0: \n",
    "                    row_division = int(item1 / item2)                 \n",
    "   \n",
    "    return row_division\n",
    "\n",
    "def checksum_spreadsheet_star2(input_sheet):\n",
    "    row_checksums = [] \n",
    "    \n",
    "    for row in input_sheet:        \n",
    "        row_checksums.append(calculate_row_checksum_star_two(row))\n",
    "        \n",
    "    return sum(row_checksums)\n",
    "    "
   ]
  },
  {
   "cell_type": "code",
   "execution_count": 156,
   "metadata": {},
   "outputs": [
    {
     "name": "stdout",
     "output_type": "stream",
     "text": [
      "My checksum finder gets the answer for the test data: True\n",
      "Answer 1: 9 Expected: 9\n"
     ]
    }
   ],
   "source": [
    "print('My checksum finder gets the answer for the test data:', checksum_spreadsheet_star2(TEST_DATA2) == TEST_ANSWER2)\n",
    "print('Answer 1:', checksum_spreadsheet_star2(TEST_DATA2), 'Expected:', TEST_ANSWER2)"
   ]
  },
  {
   "cell_type": "code",
   "execution_count": 159,
   "metadata": {},
   "outputs": [
    {
     "name": "stdout",
     "output_type": "stream",
     "text": [
      "Star 2\n",
      "My checksum finder gets the answer for the puzzle data: 275\n",
      "Answer 1: 275\n"
     ]
    }
   ],
   "source": [
    "print('Star 2')\n",
    "print('My checksum finder gets the answer for the puzzle data:', checksum_spreadsheet_star2(PUZZLE_DATA))\n",
    "print('Answer 1:', checksum_spreadsheet_star2(PUZZLE_DATA))\n",
    "\n",
    "PUZZLE_ANSWER2 = checksum_spreadsheet_star2(PUZZLE_DATA)"
   ]
  },
  {
   "cell_type": "markdown",
   "metadata": {},
   "source": [
    "I have the second gold star! \n",
    "\n",
    "But I don't like my solution. "
   ]
  },
  {
   "cell_type": "code",
   "execution_count": 160,
   "metadata": {},
   "outputs": [],
   "source": [
    "def checksum_spreadsheet_star1_attempt2(input_sheet):\n",
    "    row_checksums = 0\n",
    "    \n",
    "    for row in input_sheet: \n",
    "        row_checksums += max(row) - min(row)\n",
    "        \n",
    "    return row_checksums"
   ]
  },
  {
   "cell_type": "code",
   "execution_count": 161,
   "metadata": {},
   "outputs": [
    {
     "name": "stdout",
     "output_type": "stream",
     "text": [
      "My checksum finder gets the answer for the test data: True\n",
      "Answer 1: 18 Expected: 18\n",
      "My checksum finder gets the answer for the test data: True\n",
      "Answer 1: 45351 Expected: 45351\n"
     ]
    }
   ],
   "source": [
    "print('My checksum finder gets the answer for the test data:', checksum_spreadsheet_star1_attempt2(TEST_DATA) == TEST_ANSWER)\n",
    "print('Answer 1:', checksum_spreadsheet_star1_attempt2(TEST_DATA), 'Expected:', TEST_ANSWER)\n",
    "\n",
    "print('My checksum finder gets the answer for the test data:', checksum_spreadsheet_star1_attempt2(PUZZLE_DATA) == PUZZLE_ANSWER)\n",
    "print('Answer 1:', checksum_spreadsheet_star1_attempt2(PUZZLE_DATA), 'Expected:', PUZZLE_ANSWER)"
   ]
  },
  {
   "cell_type": "code",
   "execution_count": 172,
   "metadata": {},
   "outputs": [],
   "source": [
    "import itertools \n",
    "\n",
    "def calculate_row_checksum_star2_attempt2(input_row): \n",
    "    lowest = input_row[0]\n",
    "    maximum = input_row[0]\n",
    "    \n",
    "    for item in input_row: \n",
    "        if item < lowest: \n",
    "            lowest = item\n",
    "        if item > maximum: \n",
    "            maximum = item\n",
    "\n",
    "    return maximum - lowest\n",
    "\n",
    "\n",
    "def checksum_spreadsheet_star2_attempt2(input_sheet):\n",
    "    row_checksums = 0\n",
    "    \n",
    "    for row in input_sheet: \n",
    "        for item in itertools.combinations(row, 2):            \n",
    "            if max(item) % min(item) == 0:\n",
    "                row_checksums += max(item) / min(item)\n",
    "                break\n",
    "        \n",
    "    return row_checksums"
   ]
  },
  {
   "cell_type": "code",
   "execution_count": 173,
   "metadata": {},
   "outputs": [
    {
     "name": "stdout",
     "output_type": "stream",
     "text": [
      "Star 2\n",
      "My checksum finder gets the answer for the test data: True\n",
      "Answer 2: 9 Expected: 9\n",
      "My checksum finder gets the answer for the puzzle data: True\n",
      "Answer 2: 275\n"
     ]
    }
   ],
   "source": [
    "print('Star 2')\n",
    "print('My checksum finder gets the answer for the test data:', checksum_spreadsheet_star2_attempt2(TEST_DATA2) == TEST_ANSWER2)\n",
    "print('Answer 2:', checksum_spreadsheet_star2(TEST_DATA2), 'Expected:', TEST_ANSWER2)\n",
    "print('My checksum finder gets the answer for the puzzle data:', checksum_spreadsheet_star2_attempt2(PUZZLE_DATA) == PUZZLE_ANSWER2)\n",
    "print('Answer 2:', checksum_spreadsheet_star2(PUZZLE_DATA))"
   ]
  },
  {
   "cell_type": "code",
   "execution_count": 176,
   "metadata": {},
   "outputs": [
    {
     "ename": "SyntaxError",
     "evalue": "invalid syntax (<ipython-input-176-1753f242e66c>, line 2)",
     "output_type": "error",
     "traceback": [
      "\u001b[0;36m  File \u001b[0;32m\"<ipython-input-176-1753f242e66c>\"\u001b[0;36m, line \u001b[0;32m2\u001b[0m\n\u001b[0;31m    This is a test!\u001b[0m\n\u001b[0m                 ^\u001b[0m\n\u001b[0;31mSyntaxError\u001b[0m\u001b[0;31m:\u001b[0m invalid syntax\n"
     ]
    }
   ],
   "source": [
    "# %load thisisatest\n",
    "This is a test! \n",
    "\n",
    "value = %load thisisatest\n",
    "print(value)\n"
   ]
  },
  {
   "cell_type": "code",
   "execution_count": null,
   "metadata": {},
   "outputs": [],
   "source": []
  }
 ],
 "metadata": {
  "kernelspec": {
   "display_name": "Python 3",
   "language": "python",
   "name": "python3"
  },
  "language_info": {
   "codemirror_mode": {
    "name": "ipython",
    "version": 3
   },
   "file_extension": ".py",
   "mimetype": "text/x-python",
   "name": "python",
   "nbconvert_exporter": "python",
   "pygments_lexer": "ipython3",
   "version": "3.5.2"
  }
 },
 "nbformat": 4,
 "nbformat_minor": 2
}
