{
 "cells": [
  {
   "cell_type": "markdown",
   "metadata": {},
   "source": [
    "> A new system policy has been put in place that requires all accounts to use a passphrase instead of simply a password. A passphrase consists of a series of words (lowercase letters) separated by spaces.\n",
    "\n",
    "> To ensure security, a valid passphrase must contain no duplicate words.\n",
    "\n",
    "> For example:\n",
    "\n",
    "> - aa bb cc dd ee is valid.\n",
    "> - aa bb cc dd aa is not valid - the word aa appears more than once.\n",
    "> - aa bb cc dd aaa is valid - aa and aaa count as different words.\n",
    "\n",
    ">The system's full passphrase list is available as your puzzle input. How many passphrases are valid?\n",
    "\n"
   ]
  },
  {
   "cell_type": "code",
   "execution_count": 1,
   "metadata": {},
   "outputs": [],
   "source": [
    "TEST1 = \"aa bb cc dd ee\"\n",
    "TEST1_ANSWER = True\n",
    "TEST2 = \"aa bb cc dd aa\"\n",
    "TEST2_ANSWER = False\n",
    "TEST3 = \"aa bb cc dd aaa\"\n",
    "TEST3_ANSWER = True"
   ]
  },
  {
   "cell_type": "code",
   "execution_count": 2,
   "metadata": {},
   "outputs": [],
   "source": [
    "def is_valid_passphrase(input_string): \n",
    "    passphrase_list = input_string.split()\n",
    "    passphrase_tokens = {} \n",
    "       \n",
    "    for word in passphrase_list: \n",
    "        if word in passphrase_tokens: \n",
    "            return False\n",
    "        else: \n",
    "            passphrase_tokens[word] = None \n",
    "            \n",
    "    return True"
   ]
  },
  {
   "cell_type": "code",
   "execution_count": 3,
   "metadata": {},
   "outputs": [
    {
     "name": "stdout",
     "output_type": "stream",
     "text": [
      "Test 1 INPUT: aa bb cc dd ee, OUTPUT: True , EXPECTED: True , CORRECT\" True \n",
      "Test 2 INPUT: aa bb cc dd aa, OUTPUT: False , EXPECTED: True , CORRECT\" True \n",
      "Test 2 INPUT: aa bb cc dd aa, OUTPUT: False , EXPECTED: False , CORRECT\" True \n"
     ]
    }
   ],
   "source": [
    "print('Test 1 INPUT: {}, OUTPUT: {} , EXPECTED: {} , CORRECT\" {} '.format(TEST1,\n",
    "                                                                          is_valid_passphrase(TEST1),\n",
    "                                                                          TEST1_ANSWER,\n",
    "                                                                          is_valid_passphrase(TEST1) == TEST1_ANSWER,\n",
    "                                                                         ))\n",
    "print('Test 2 INPUT: {}, OUTPUT: {} , EXPECTED: {} , CORRECT\" {} '.format(TEST2,\n",
    "                                                                          is_valid_passphrase(TEST2),\n",
    "                                                                          TEST1_ANSWER,\n",
    "                                                                          is_valid_passphrase(TEST2) == TEST2_ANSWER,\n",
    "                                                                         ))\n",
    "print('Test 2 INPUT: {}, OUTPUT: {} , EXPECTED: {} , CORRECT\" {} '.format(TEST2,\n",
    "                                                                          is_valid_passphrase(TEST2),\n",
    "                                                                          TEST2_ANSWER,\n",
    "                                                                          is_valid_passphrase(TEST2) == TEST2_ANSWER,\n",
    "                                                                         ))\n"
   ]
  },
  {
   "cell_type": "code",
   "execution_count": 4,
   "metadata": {},
   "outputs": [
    {
     "name": "stdout",
     "output_type": "stream",
     "text": [
      "512\n",
      "bdwdjjo avricm cjbmj ran lmfsom ivsof\n",
      "\n"
     ]
    }
   ],
   "source": [
    "DAY4_PUZZLE_DATA = []\n",
    "\n",
    "with open('./assets/day4_data.txt', 'r') as data_file:\n",
    "    DAY4_PUZZLE_DATA = data_file.readlines()\n",
    "    \n",
    "print(len(DAY4_PUZZLE_DATA))\n",
    "print(DAY4_PUZZLE_DATA[0])\n",
    "\n",
    "SAMPLE_DATA = []\n",
    "\n",
    "with open('./assets/day4_test_data.txt', 'r') as data_file: \n",
    "    SAMPLE_DATA = data_file.readlines() \n",
    "    \n",
    "def answer_puzzle(puzzle_data): \n",
    "    valid_phrases = 0\n",
    "    for line in puzzle_data:\n",
    "        if is_valid_passphrase(line):\n",
    "            valid_phrases += 1\n",
    "    return valid_phrases\n",
    "    "
   ]
  },
  {
   "cell_type": "code",
   "execution_count": 39,
   "metadata": {},
   "outputs": [
    {
     "name": "stdout",
     "output_type": "stream",
     "text": [
      "For my sample data I have found 2 valid passphrases.\n",
      "For the puzzle data I have found 455 valid passphrases.\n"
     ]
    }
   ],
   "source": [
    "print('For my sample data I have found {} valid passphrases.'.format(answer_puzzle(SAMPLE_DATA)))\n",
    "print('For the puzzle data I have found {} valid passphrases.'.format(answer_puzzle(DAY4_PUZZLE_DATA)))"
   ]
  },
  {
   "cell_type": "markdown",
   "metadata": {},
   "source": [
    "I have earned the first gold star."
   ]
  },
  {
   "cell_type": "markdown",
   "metadata": {},
   "source": [
    "> For added security, yet another system policy has been put in place. Now, a valid passphrase must contain no two words that are anagrams of each other - that is, a passphrase is invalid if any word's letters can be rearranged to form any other word in the passphrase.\n",
    "\n",
    "> For example:\n",
    "\n",
    "> - abcde fghij is a valid passphrase.\n",
    "> - abcde xyz ecdab is not valid - the letters from the third word can be rearranged to form the first word.\n",
    "> - a ab abc abd abf abj is a valid passphrase, because all letters need to be used when forming another word.\n",
    "> - iiii oiii ooii oooi oooo is valid.\n",
    "> - oiii ioii iioi iiio is not valid - any of these words can be rearranged to form any other word.\n",
    "\n",
    "> Under this new system policy, how many passphrases are valid?"
   ]
  },
  {
   "cell_type": "code",
   "execution_count": 40,
   "metadata": {},
   "outputs": [],
   "source": [
    "STAR2_TEST1 = 'abcde fghij'\n",
    "STAR2_TEST1_ANSWER = True\n",
    "STAR2_TEST2 = 'abcde xyz ecdab'\n",
    "STAR2_TEST2_ANSWER = False\n",
    "STAR2_TEST3 = 'a ab abc abd abf abj'\n",
    "STAR2_TEST3_ANSWER = True\n",
    "STAR2_TEST4 = 'iiii oiii ooii oooi oooo'\n",
    "STAR2_TEST4_ANSWER = True\n",
    "STAR2_TEST5 = 'oiii ioii iioi iiio'\n",
    "STAR2_TEST5_ANSWER = False\n"
   ]
  },
  {
   "cell_type": "code",
   "execution_count": 112,
   "metadata": {},
   "outputs": [],
   "source": [
    "import itertools \n",
    "\n",
    "def star2_is_valid_passphrase(input_string):\n",
    "    passphrase_list = input_string.split()\n",
    "    passphrase_tokens = {}\n",
    "       \n",
    "    for word in passphrase_list: \n",
    "        search_candidate = str(sorted(word))\n",
    "        if search_candidate in passphrase_tokens: \n",
    "            return False\n",
    "        else:\n",
    "            #print(sorted(word))\n",
    "            passphrase_tokens[search_candidate] = None\n",
    "\n",
    "            \n",
    "#    print(passphrase_tokens.keys())\n",
    "#    print(passphrase_tokens)\n",
    "    return True"
   ]
  },
  {
   "cell_type": "code",
   "execution_count": 113,
   "metadata": {},
   "outputs": [
    {
     "name": "stdout",
     "output_type": "stream",
     "text": [
      "Star 2 Test 1 INPUT: abcde fghij, OUTPUT: True , EXPECTED: True , CORRECT\" True \n",
      "Star 2 Test 2 INPUT: abcde xyz ecdab, OUTPUT: False , EXPECTED: False , CORRECT\" True \n",
      "Star 2 Test 3 INPUT: a ab abc abd abf abj, OUTPUT: True , EXPECTED: True , CORRECT\" True \n",
      "Star 2 Test 4 INPUT: iiii oiii ooii oooi oooo, OUTPUT: True , EXPECTED: True , CORRECT\" True \n",
      "Star 2 Test 5 INPUT: oiii ioii iioi iiio, OUTPUT: False , EXPECTED: False , CORRECT\" True \n"
     ]
    }
   ],
   "source": [
    "print('Star 2 Test 1 INPUT: {}, OUTPUT: {} , EXPECTED: {} , CORRECT\" {} '.format(STAR2_TEST1,\n",
    "                                                                              star2_is_valid_passphrase(STAR2_TEST1),\n",
    "                                                                              STAR2_TEST1_ANSWER,\n",
    "                                                                              star2_is_valid_passphrase(STAR2_TEST1) == STAR2_TEST1_ANSWER,\n",
    "                                                                         ))\n",
    "print('Star 2 Test 2 INPUT: {}, OUTPUT: {} , EXPECTED: {} , CORRECT\" {} '.format(STAR2_TEST2,\n",
    "                                                                              star2_is_valid_passphrase(STAR2_TEST2),\n",
    "                                                                              STAR2_TEST2_ANSWER,\n",
    "                                                                              star2_is_valid_passphrase(STAR2_TEST2) == STAR2_TEST2_ANSWER,\n",
    "                                                                         ))\n",
    "print('Star 2 Test 3 INPUT: {}, OUTPUT: {} , EXPECTED: {} , CORRECT\" {} '.format(STAR2_TEST3,\n",
    "                                                                              star2_is_valid_passphrase(STAR2_TEST3),\n",
    "                                                                              STAR2_TEST3_ANSWER,\n",
    "                                                                              star2_is_valid_passphrase(STAR2_TEST3) == STAR2_TEST3_ANSWER,\n",
    "                                                                         ))\n",
    "print('Star 2 Test 4 INPUT: {}, OUTPUT: {} , EXPECTED: {} , CORRECT\" {} '.format(STAR2_TEST4,\n",
    "                                                                              star2_is_valid_passphrase(STAR2_TEST4),\n",
    "                                                                              STAR2_TEST4_ANSWER,\n",
    "                                                                              star2_is_valid_passphrase(STAR2_TEST4) == STAR2_TEST4_ANSWER,\n",
    "                                                                         ))\n",
    "print('Star 2 Test 5 INPUT: {}, OUTPUT: {} , EXPECTED: {} , CORRECT\" {} '.format(STAR2_TEST5,\n",
    "                                                                              star2_is_valid_passphrase(STAR2_TEST5),\n",
    "                                                                              STAR2_TEST5_ANSWER,\n",
    "                                                                              star2_is_valid_passphrase(STAR2_TEST5) == STAR2_TEST5_ANSWER,\n",
    "                                                                         ))"
   ]
  },
  {
   "cell_type": "code",
   "execution_count": 114,
   "metadata": {},
   "outputs": [],
   "source": [
    "def answer_puzzle_star2(puzzle_data): \n",
    "    valid_phrases = 0\n",
    "    for line in puzzle_data:\n",
    "        if star2_is_valid_passphrase(line):\n",
    "            valid_phrases += 1\n",
    "    return valid_phrases"
   ]
  },
  {
   "cell_type": "code",
   "execution_count": 115,
   "metadata": {},
   "outputs": [
    {
     "name": "stdout",
     "output_type": "stream",
     "text": [
      "For the puzzle data I have found 186 valid star 2 passphrases.\n"
     ]
    }
   ],
   "source": [
    "print('For the puzzle data I have found {} valid star 2 passphrases.'.format(answer_puzzle_star2(DAY4_PUZZLE_DATA)))"
   ]
  },
  {
   "cell_type": "code",
   "execution_count": null,
   "metadata": {},
   "outputs": [],
   "source": []
  }
 ],
 "metadata": {
  "kernelspec": {
   "display_name": "Python 3",
   "language": "python",
   "name": "python3"
  },
  "language_info": {
   "codemirror_mode": {
    "name": "ipython",
    "version": 3
   },
   "file_extension": ".py",
   "mimetype": "text/x-python",
   "name": "python",
   "nbconvert_exporter": "python",
   "pygments_lexer": "ipython3",
   "version": "3.5.2"
  }
 },
 "nbformat": 4,
 "nbformat_minor": 2
}
