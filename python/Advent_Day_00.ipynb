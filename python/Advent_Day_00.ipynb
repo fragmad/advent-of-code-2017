{
 "cells": [
  {
   "cell_type": "markdown",
   "metadata": {},
   "source": [
    "# Advent Day 00 \n",
    "\n",
    "One of my colleges at work posed a problem that they were working on which is simple and a good way to get myself into using jupyter notebooks. \n",
    "\n",
    ">Given an unsorted list of integers return the least frequently occuring integer and in the case of a tie return the integer which appeared first.\n",
    "\n",
    "For example: [1,2,2,1] returns 1."
   ]
  },
  {
   "cell_type": "code",
   "execution_count": 6,
   "metadata": {},
   "outputs": [
    {
     "name": "stdout",
     "output_type": "stream",
     "text": [
      "1\n",
      "1\n",
      "1\n"
     ]
    }
   ],
   "source": [
    "from operator import itemgetter\n",
    "\n",
    "TEST_CASE1 = [1,2,2,1]\n",
    "TEST_CASE2 = [1,2,2,1,1]\n",
    "TEST_CASE3 = [1,2,3,3,2,1,1]\n",
    "\n",
    "def find_lowest(input_list, debug=False):\n",
    "    element_dict = {}\n",
    "    result_list = []\n",
    "    position = 0\n",
    "    for element in input_list: \n",
    "        if element in element_dict: \n",
    "            temp_tuple = element_dict[element]\n",
    "            element_tuple = (temp_tuple[0] + 1,\n",
    "                             temp_tuple[1], \n",
    "                             temp_tuple[2])\n",
    "            element_dict[element] = element_tuple\n",
    "        else: \n",
    "            element_tuple = (1, position, str(element))\n",
    "            element_dict[element] = element_tuple\n",
    "            \n",
    "        position += 1\n",
    "        \n",
    "    for element in element_dict: \n",
    "        result_list.append(element_dict[element])\n",
    "        \n",
    "    # sorted(student_tuples, key=lambda student: student[2]\n",
    "    #print(result_list)\n",
    "    result_list_first_pass = sorted(result_list, key=itemgetter(0), reverse=False)\n",
    "    result_list = sorted(result_list_first_pass, key=itemgetter(1), reverse=False)\n",
    "    \n",
    "    if debug: \n",
    "        for line in enumerate(zip(result_list_first_pass, result_list)):        \n",
    "            print(line)\n",
    "                \n",
    "    \n",
    "    value = result_list[0][2]\n",
    "    return value \n",
    "\n",
    "print(find_lowest(TEST_CASE1))\n",
    "print(find_lowest(TEST_CASE2))\n",
    "print(find_lowest(TEST_CASE3))"
   ]
  },
  {
   "cell_type": "code",
   "execution_count": 7,
   "metadata": {},
   "outputs": [],
   "source": [
    "import random \n",
    "\n",
    "def generate_large_random_list(length, int_range, seed):\n",
    "    random.seed(seed)\n",
    "    list_of_integers = [] \n",
    "    for integer in range(length + 1): \n",
    "        list_of_integers.append(random.randrange(0, int_range))\n",
    "        \n",
    "    return list_of_integers"
   ]
  },
  {
   "cell_type": "code",
   "execution_count": 8,
   "metadata": {},
   "outputs": [
    {
     "name": "stdout",
     "output_type": "stream",
     "text": [
      "List one is equivilent to list two, True\n",
      "List two is not equivilent to list three, True\n"
     ]
    }
   ],
   "source": [
    "list_one = (generate_large_random_list(1909, 5, 1))\n",
    "list_two = (generate_large_random_list(1909, 5, 1))\n",
    "list_three = (generate_large_random_list(1909, 5, 2))\n",
    "list_four = (generate_large_random_list(100, 50, 1))\n",
    "print('List one is equivilent to list two,', list_one == list_two)\n",
    "print('List two is not equivilent to list three,', list_one != list_three)"
   ]
  },
  {
   "cell_type": "code",
   "execution_count": 9,
   "metadata": {},
   "outputs": [
    {
     "name": "stdout",
     "output_type": "stream",
     "text": [
      "1\n",
      "1\n",
      "0\n",
      "8\n"
     ]
    }
   ],
   "source": [
    "print(find_lowest(list_one))\n",
    "print(find_lowest(list_two))\n",
    "print(find_lowest(list_three))\n",
    "print(find_lowest(list_four))"
   ]
  },
  {
   "cell_type": "code",
   "execution_count": 10,
   "metadata": {},
   "outputs": [
    {
     "name": "stdout",
     "output_type": "stream",
     "text": [
      "[8, 36, 48, 4, 16, 7, 31, 48, 28, 30, 41, 24, 13, 6, 31, 1, 24, 27, 38, 48, 49, 0, 44, 28, 17, 46, 14, 37, 6, 20, 1, 1, 1, 41, 34, 0, 24, 43, 13, 27, 46, 1, 33, 14, 48, 28, 31, 35, 14, 22, 14, 43, 14, 48, 29, 18, 1, 26, 35, 41, 6, 11, 40, 46, 18, 7, 47, 21, 46, 45, 32, 27, 32, 42, 12, 19, 18, 37, 31, 32, 25, 37, 2, 30, 15, 47, 25, 26, 42, 11, 23, 35, 44, 49, 43, 47, 23, 5, 28, 42, 32]\n"
     ]
    }
   ],
   "source": [
    "print(list_four)"
   ]
  },
  {
   "cell_type": "markdown",
   "metadata": {},
   "source": [
    "I am entirely suspicious of the above result. It looks like the answer should be two. A graph will be required."
   ]
  },
  {
   "cell_type": "code",
   "execution_count": 11,
   "metadata": {},
   "outputs": [
    {
     "name": "stdout",
     "output_type": "stream",
     "text": [
      "count, position, character\n",
      "(0, ((1, 82, '2'), (1, 0, '8')))\n",
      "(1, ((1, 3, '4'), (1, 1, '36')))\n",
      "(2, ((1, 97, '5'), (5, 2, '48')))\n",
      "(3, ((1, 0, '8'), (1, 3, '4')))\n",
      "(4, ((1, 74, '12'), (1, 4, '16')))\n",
      "(5, ((1, 84, '15'), (2, 5, '7')))\n",
      "(6, ((1, 4, '16'), (4, 6, '31')))\n",
      "(7, ((1, 24, '17'), (4, 8, '28')))\n",
      "(8, ((1, 75, '19'), (2, 9, '30')))\n",
      "(9, ((1, 29, '20'), (3, 10, '41')))\n",
      "(10, ((1, 67, '21'), (3, 11, '24')))\n",
      "(11, ((1, 49, '22'), (2, 12, '13')))\n",
      "(12, ((1, 54, '29'), (3, 13, '6')))\n",
      "(13, ((1, 42, '33'), (6, 15, '1')))\n",
      "(14, ((1, 34, '34'), (3, 17, '27')))\n",
      "(15, ((1, 1, '36'), (1, 18, '38')))\n",
      "(16, ((1, 18, '38'), (2, 20, '49')))\n",
      "(17, ((1, 62, '40'), (2, 21, '0')))\n",
      "(18, ((1, 69, '45'), (2, 22, '44')))\n",
      "(19, ((2, 21, '0'), (1, 24, '17')))\n",
      "(20, ((2, 5, '7'), (4, 25, '46')))\n",
      "(21, ((2, 61, '11'), (5, 26, '14')))\n",
      "(22, ((2, 12, '13'), (3, 27, '37')))\n",
      "(23, ((2, 90, '23'), (1, 29, '20')))\n",
      "(24, ((2, 80, '25'), (1, 34, '34')))\n",
      "(25, ((2, 57, '26'), (3, 37, '43')))\n",
      "(26, ((2, 9, '30'), (1, 42, '33')))\n",
      "(27, ((2, 22, '44'), (3, 47, '35')))\n",
      "(28, ((2, 20, '49'), (1, 49, '22')))\n",
      "(29, ((3, 13, '6'), (1, 54, '29')))\n",
      "(30, ((3, 55, '18'), (3, 55, '18')))\n",
      "(31, ((3, 11, '24'), (2, 57, '26')))\n",
      "(32, ((3, 17, '27'), (2, 61, '11')))\n",
      "(33, ((3, 47, '35'), (1, 62, '40')))\n",
      "(34, ((3, 27, '37'), (3, 66, '47')))\n",
      "(35, ((3, 10, '41'), (1, 67, '21')))\n",
      "(36, ((3, 73, '42'), (1, 69, '45')))\n",
      "(37, ((3, 37, '43'), (4, 70, '32')))\n",
      "(38, ((3, 66, '47'), (3, 73, '42')))\n",
      "(39, ((4, 8, '28'), (1, 74, '12')))\n",
      "(40, ((4, 6, '31'), (1, 75, '19')))\n",
      "(41, ((4, 70, '32'), (2, 80, '25')))\n",
      "(42, ((4, 25, '46'), (1, 82, '2')))\n",
      "(43, ((5, 26, '14'), (1, 84, '15')))\n",
      "(44, ((5, 2, '48'), (2, 90, '23')))\n",
      "(45, ((6, 15, '1'), (1, 97, '5')))\n",
      "8\n"
     ]
    }
   ],
   "source": [
    "print(\"count, position, character\")\n",
    "print(find_lowest(list_four, debug=True))"
   ]
  },
  {
   "cell_type": "markdown",
   "metadata": {},
   "source": [
    "I trust this slightly more now. \n",
    "\n",
    "But let's try timing this."
   ]
  },
  {
   "cell_type": "code",
   "execution_count": 34,
   "metadata": {},
   "outputs": [
    {
     "name": "stdout",
     "output_type": "stream",
     "text": [
      "Simple benchmark of find_lowest with long list: 1.7033999938576017e-05 sec per loop\n",
      "Simple benchmark of find_lowest with short list: 1.2654000784095842e-05 sec per loop\n",
      "Simple benchmark of find_lowest with trivial list: 1.2572999366966542e-05 sec per loop\n",
      "Simple benchmark of find_lowest with mega list: 9.466999472351745e-06 sec per loop\n"
     ]
    }
   ],
   "source": [
    "import timeit\n",
    "\n",
    "duration = timeit.timeit(find_lowest(list_four), number=1000)\n",
    "\n",
    "print('Simple benchmark of find_lowest with long list:', duration, 'unit sec per loop')\n",
    "\n",
    "duration = timeit.timeit(find_lowest(list_one), number=1000)\n",
    "print('Simple benchmark of find_lowest with short list:', duration, 'unit sec per loop')\n",
    "\n",
    "duration = timeit.timeit(find_lowest([1,2,2,1]), number=1000)\n",
    "print('Simple benchmark of find_lowest with trivial list:', duration, 'unit sec per loop')\n",
    "\n",
    "duration = timeit.timeit(find_lowest(generate_large_random_list(10000000, 5100, 1)), number=1000)\n",
    "print('Simple benchmark of find_lowest with mega list:', duration, 'unit sec per loop')\n"
   ]
  },
  {
   "cell_type": "code",
   "execution_count": null,
   "metadata": {},
   "outputs": [],
   "source": []
  },
  {
   "cell_type": "code",
   "execution_count": null,
   "metadata": {},
   "outputs": [],
   "source": []
  }
 ],
 "metadata": {
  "kernelspec": {
   "display_name": "Python 3",
   "language": "python",
   "name": "python3"
  },
  "language_info": {
   "codemirror_mode": {
    "name": "ipython",
    "version": 3
   },
   "file_extension": ".py",
   "mimetype": "text/x-python",
   "name": "python",
   "nbconvert_exporter": "python",
   "pygments_lexer": "ipython3",
   "version": "3.5.2"
  }
 },
 "nbformat": 4,
 "nbformat_minor": 2
}
