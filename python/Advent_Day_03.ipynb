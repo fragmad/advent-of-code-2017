{
 "cells": [
  {
   "cell_type": "markdown",
   "metadata": {},
   "source": [
    "> Each square on the grid is allocated in a spiral pattern starting at a location marked 1 and then counting up while spiraling outward. For example, the first few squares are allocated like this:\n",
    "\n",
    "> 17  16  15  14  13\n",
    "\n",
    "> 18   5   4   3  12\n",
    "\n",
    "> 19   6   1   2  11\n",
    "\n",
    "> 20   7   8   9  10\n",
    "\n",
    ">21  22  23---> ...\n",
    "\n",
    "> While this is very space-efficient (no squares are skipped), requested data must be carried back to square 1 (the location of the only access port for this memory system) by programs that can only move up, down, left, or right. They always take the shortest path: the Manhattan Distance between the location of the data and square 1.\n",
    "\n",
    "> For example:\n",
    "\n",
    "> - Data from square 1 is carried 0 steps, since it's at the access port.\n",
    "> - Data from square 12 is carried 3 steps, such as: down, left, left.\n",
    "> - Data from square 23 is carried only 2 steps: up twice.\n",
    "> - Data from square 1024 must be carried 31 steps.\n",
    "> - How many steps are required to carry the data from the square identified in your puzzle input all the way to the access port?"
   ]
  },
  {
   "cell_type": "code",
   "execution_count": 10,
   "metadata": {},
   "outputs": [
    {
     "name": "stdout",
     "output_type": "stream",
     "text": [
      "range(0, 4)\n",
      "1\n",
      "0\n",
      "2\n",
      "1\n",
      "3\n",
      "1\n"
     ]
    }
   ],
   "source": [
    "start = 1\n",
    "max_steps = 1\n",
    "n = 2\n",
    "\n",
    "test = range(4)\n",
    "print(test)\n",
    "\n",
    "for step in range(1,4):    \n",
    "    print(step)\n",
    "    print(max_steps % step)"
   ]
  },
  {
   "cell_type": "markdown",
   "metadata": {},
   "source": [
    "# Impressions\n",
    "\n",
    "OMFG! \n",
    "\n",
    "Well there's some simple maths going on here and a couple of problems going on that I need to solve first. \n",
    "\n",
    "Steps: \n",
    "\n",
    "- Implment a Manhattan Disance function: (ax - ay) + (bx - by)\n",
    "- Implement tests\n",
    "- Generate the coordinate for a given memory location\n",
    "\n",
    "My puzzle input is: 361527"
   ]
  },
  {
   "cell_type": "code",
   "execution_count": 11,
   "metadata": {},
   "outputs": [],
   "source": [
    "def manhatten_distance(pair1, pair2):\n",
    "    sx, sy = pair1\n",
    "    ex, ey = pair2    \n",
    "    return abs(ex - sx) + abs(ey - sy)"
   ]
  },
  {
   "cell_type": "code",
   "execution_count": 12,
   "metadata": {},
   "outputs": [],
   "source": [
    "TEST_INPUT1 = 1\n",
    "TEST_ANSWER1 = 0\n",
    "TEST_INPUT2 = 12\n",
    "TEST_ANSWER2 = 3\n",
    "TEST_INPUT3 = 23\n",
    "TEST_ANSWER3 = 2\n",
    "TEST_INPUT4 = 1024\n",
    "TEST_ANSWER4 = 31"
   ]
  },
  {
   "cell_type": "code",
   "execution_count": 13,
   "metadata": {},
   "outputs": [],
   "source": [
    "def generate_memory_coordinate(memory_location,\n",
    "                               verbose=False,\n",
    "                               stored=False):\n",
    "    start = (0,0)\n",
    "    direction = 1\n",
    "    current = start\n",
    "    step = 0    \n",
    "    \n",
    "    max_steps = memory_location\n",
    "    \n",
    "    max_direction_x = 1        \n",
    "    max_direction_y = 1\n",
    "    min_direction_x =  - 1 \n",
    "    min_direction_y = -1\n",
    "    x_coordinate = 0 \n",
    "    y_coordinate = 0           \n",
    "\n",
    "    if stored:\n",
    "        stored_dict = {}\n",
    "        stored_list = [1]        \n",
    "                    \n",
    "        stored_dict[(0,0)] = 1\n",
    "                \n",
    "    for max_steps in range(memory_location - 1):              \n",
    "#        print('max_x', max_direction_x, 'max_y', max_direction_y, 'min_x', min_direction_x, 'min_y', min_direction_y)\n",
    "        \n",
    "        if max_steps == 0: \n",
    "            pass \n",
    "        \n",
    "        if direction == 1: # Go Right\n",
    "            if verbose:\n",
    "                print('right')\n",
    "            lx, ly = current\n",
    "            lx = lx + 1\n",
    "            current = (lx, ly)            \n",
    "            \n",
    "            if lx == max_direction_x:                 \n",
    "                direction = 2\n",
    "                max_direction_x = max_direction_x + 1\n",
    "           \n",
    "        elif direction == 2: # Go Up \n",
    "            if verbose:\n",
    "                print('up')\n",
    "            lx, ly = current\n",
    "            ly = ly + 1\n",
    "            current = (lx, ly)\n",
    "            \n",
    "            if ly == max_direction_y:                                 \n",
    "                direction = 3\n",
    "                max_direction_y = max_direction_y + 1              \n",
    "                \n",
    "            \n",
    "        elif direction == 3: # Go Left            \n",
    "            if verbose:\n",
    "                print('left')\n",
    "            lx, ly = current\n",
    "            lx = lx - 1\n",
    "            current = (lx, ly)\n",
    "            \n",
    "            if lx == min_direction_x: \n",
    "                direction = 4\n",
    "                min_direction_x = min_direction_x - 1                \n",
    "\n",
    "           \n",
    "        elif direction == 4: # Go Down\n",
    "            if verbose:\n",
    "                print('down')\n",
    "            lx, ly = current\n",
    "            ly = ly - 1\n",
    "            current = (lx, ly)         \n",
    "            \n",
    "            if ly == min_direction_y: \n",
    "                direction = 1\n",
    "                min_direction_y = min_direction_y - 1                   \n",
    "        \n",
    "        if verbose: \n",
    "             print(current, max_steps)                       \n",
    "        \n",
    "        if stored:\n",
    "            def calc_adjacent(point): \n",
    "                px, py = point \n",
    "            \n",
    "                left = (px - 1, py)\n",
    "                right = (px + 1, py)\n",
    "                up =  (px, py + 1 )\n",
    "                down = (px, py - 1)\n",
    "                leftup = (px - 1, py + 1)\n",
    "                leftdown = (px - 1, py - 1) \n",
    "                rightdown = (px+ 1, py - 1)\n",
    "                rightup = (px + 1, py + 1)\n",
    "                return [left, right, up, down, leftup, leftdown, rightdown, rightup]\n",
    "            \n",
    "            if current not in stored_dict: \n",
    "                adjacents = calc_adjacent(current)\n",
    "                total = 0 \n",
    "            \n",
    "                for point in adjacents: \n",
    "                    if point in stored_dict:                        \n",
    "                        total = total + stored_dict[point]                        \n",
    "                        \n",
    "                stored_list.append(total)\n",
    "                stored_dict[current] = total\n",
    "                    \n",
    "    if verbose: \n",
    "        print(current)\n",
    "     \n",
    "    if stored: \n",
    "        return stored_list, stored_dict \n",
    "    \n",
    "    return current\n",
    "\n",
    "def find_shortest_path(memory_location, verbose=False): \n",
    "    access_port = (0,0)   \n",
    "    \n",
    "    if memory_location == 1:\n",
    "        return 0 \n",
    "    \n",
    "    memory_coordinates = generate_memory_coordinate(memory_location, verbose)       \n",
    "   \n",
    "    return manhatten_distance(access_port, memory_coordinates)"
   ]
  },
  {
   "cell_type": "code",
   "execution_count": 14,
   "metadata": {},
   "outputs": [
    {
     "name": "stdout",
     "output_type": "stream",
     "text": [
      "Test input 1: 1, expects: 0, got: 0, is correct: True\n",
      "Test input 1: 2, expects: 1, got: 1, is correct: True\n",
      "Test input 1: 3, expects: 2, got: 2, is correct: True\n",
      "Test input 1: 4, expects: 1, got: 1, is correct: True\n",
      "Test input 2: 12, expects: 3, got: 3, is correct: True\n",
      "Test input 3: 23, expects: 2, got 2, is correct: True\n",
      "Test input 4: 1024, expects: 31, got 31, is correct: True\n"
     ]
    }
   ],
   "source": [
    "print('Test input 1: {}, expects: {}, got: {}, is correct: {}'.format(TEST_INPUT1,\n",
    "                                                                TEST_ANSWER1,\n",
    "                                                                find_shortest_path(TEST_INPUT1),\n",
    "                                                                find_shortest_path(TEST_INPUT1) == TEST_ANSWER1))\n",
    "print('Test input 1: {}, expects: {}, got: {}, is correct: {}'.format(2,\n",
    "                                                                1,\n",
    "                                                                find_shortest_path(2),\n",
    "                                                                find_shortest_path(2) == 1))\n",
    "print('Test input 1: {}, expects: {}, got: {}, is correct: {}'.format(3,\n",
    "                                                                2,\n",
    "                                                                find_shortest_path(3),\n",
    "                                                                find_shortest_path(3) == 2))\n",
    "print('Test input 1: {}, expects: {}, got: {}, is correct: {}'.format(4,\n",
    "                                                                1,\n",
    "                                                                find_shortest_path(4),\n",
    "                                                                find_shortest_path(4) == 1))\n",
    "print('Test input 2: {}, expects: {}, got: {}, is correct: {}'.format(TEST_INPUT2,\n",
    "                                                            TEST_ANSWER2,\n",
    "                                                            find_shortest_path(TEST_INPUT2, verbose=False),\n",
    "                                                            find_shortest_path(TEST_INPUT2) == TEST_ANSWER2))\n",
    "print('Test input 3: {}, expects: {}, got {}, is correct: {}'.format(TEST_INPUT3,\n",
    "                                                            TEST_ANSWER3,\n",
    "                                                            find_shortest_path(TEST_INPUT3, verbose=False),\n",
    "                                                            find_shortest_path(TEST_INPUT3) == TEST_ANSWER3))\n",
    "print('Test input 4: {}, expects: {}, got {}, is correct: {}'.format(TEST_INPUT4,\n",
    "                                                            TEST_ANSWER4,\n",
    "                                                            find_shortest_path(TEST_INPUT4),                                                                     \n",
    "                                                            find_shortest_path(TEST_INPUT4) == TEST_ANSWER4))"
   ]
  },
  {
   "cell_type": "code",
   "execution_count": 15,
   "metadata": {},
   "outputs": [
    {
     "name": "stdout",
     "output_type": "stream",
     "text": [
      "My puzzle input is 361527 and my answer is 326.\n"
     ]
    }
   ],
   "source": [
    "PUZZLE_INPUT = 361527\n",
    "PUZZLE_ANSWER = find_shortest_path(PUZZLE_INPUT)\n",
    "\n",
    "print('My puzzle input is {} and my answer is {}.'.format(PUZZLE_INPUT,\n",
    "                                                         PUZZLE_ANSWER))"
   ]
  },
  {
   "cell_type": "markdown",
   "metadata": {},
   "source": [
    "This granted me a gold star! "
   ]
  },
  {
   "cell_type": "markdown",
   "metadata": {},
   "source": [
    "> As a stress test on the system, the programs here clear the grid and then store the value 1 in square 1. Then, in the same allocation order as shown above, they store the sum of the values in all adjacent squares, including diagonals.\n",
    "\n",
    "> So, the first few squares' values are chosen as follows:\n",
    "\n",
    "> - Square 1 starts with the value 1.\n",
    "> - Square 2 has only one adjacent filled square (with value 1), so it also stores 1.\n",
    "> - Square 3 has both of the above squares as neighbors and stores the sum of their values, 2.\n",
    "> - Square 4 has all three of the aforementioned squares as neighbors and stores the sum of their values, 4.\n",
    "> - Square 5 only has the first and fourth squares as neighbors, so it gets the value 5.\n",
    "\n",
    ">Once a square is written, its value does not change. Therefore, the first few squares would receive the following values:\n",
    "\n",
    "    147  142  133  122   59\n",
    "    304    5    4    2   57\n",
    "    330   10    1    1   54\n",
    "    351   11   23   25   26\n",
    "    362  747  806--->   ...\n",
    "\n",
    "> What is the first value written that is larger than your puzzle input?\n",
    "\n",
    "> Your puzzle input is still 361527."
   ]
  },
  {
   "cell_type": "code",
   "execution_count": 16,
   "metadata": {},
   "outputs": [],
   "source": [
    "STAR1_VALUE = 1\n",
    "STAR2_VALUE = 1\n",
    "STAR3_VALUE = 2\n",
    "STAR4_VALUE = 4\n",
    "STAR4_VALUE = 5"
   ]
  },
  {
   "cell_type": "code",
   "execution_count": 17,
   "metadata": {},
   "outputs": [],
   "source": [
    "def compute_stress_test(memory_location, return_list=False):\n",
    "    saved_list, saved_dict = generate_memory_coordinate(memory_location, False, stored=True)   \n",
    "\n",
    "    if return_list:\n",
    "        return saved_list\n",
    "    \n",
    "    return saved_list[memory_location - 1]\n"
   ]
  },
  {
   "cell_type": "code",
   "execution_count": 29,
   "metadata": {},
   "outputs": [
    {
     "name": "stdout",
     "output_type": "stream",
     "text": [
      "SQUARE 1 expects: 1, got: 1, is correct: True\n",
      "SQUARE 2 expects: 1, got: 1, is correct: True\n",
      "SQUARE 3 expects: 2, got: 2, is correct: True\n",
      "The answer to get the second gold star is: 363010\n"
     ]
    }
   ],
   "source": [
    "print('SQUARE 1 expects: {}, got: {}, is correct: {}'.format(STAR1_VALUE,\n",
    "                                                             compute_stress_test(1),\n",
    "                                                             compute_stress_test(1) == STAR1_VALUE))\n",
    "print('SQUARE 2 expects: {}, got: {}, is correct: {}'.format(STAR2_VALUE,\n",
    "                                                             compute_stress_test(2),\n",
    "                                                             compute_stress_test(2) == STAR2_VALUE))\n",
    "print('SQUARE 3 expects: {}, got: {}, is correct: {}'.format(STAR3_VALUE,\n",
    "                                                             compute_stress_test(3),\n",
    "                                                             compute_stress_test(3) == STAR3_VALUE))\n",
    "\n",
    "PUZZLE_INPUT_STRESS_TEST = compute_stress_test(PUZZLE_INPUT, True)\n",
    "\n",
    "def find_next_largest(list_of_sums, puzzle_input):\n",
    "    for item in list_of_sums:     \n",
    "        if item > puzzle_input:\n",
    "            return item\n",
    "\n",
    "        \n",
    "print(\"The answer to get the second gold star is: {}\".format(find_next_largest(PUZZLE_INPUT_STRESS_TEST, PUZZLE_INPUT)))\n"
   ]
  },
  {
   "cell_type": "markdown",
   "metadata": {},
   "source": [
    "I have the second gold star for the day. \n",
    "\n",
    "That was painful, but mostly caused by my own shitty typing and coding. \n",
    "\n",
    "Do better tomorrow as you have less time."
   ]
  },
  {
   "cell_type": "code",
   "execution_count": 45,
   "metadata": {},
   "outputs": [
    {
     "name": "stdout",
     "output_type": "stream",
     "text": [
      "It took ~ 1.270951747894287 seconds to get the answer 363010\n"
     ]
    }
   ],
   "source": [
    "import time\n",
    "\n",
    "start = time.time()\n",
    "PUZZLE_INPUT_STRESS_TEST = compute_stress_test(PUZZLE_INPUT, True)\n",
    "result = find_next_largest(PUZZLE_INPUT_STRESS_TEST, PUZZLE_INPUT)\n",
    "end = time.time()\n",
    "\n",
    "print(\"It took ~ {} seconds to get the answer {}\".format((end-start), result))"
   ]
  },
  {
   "cell_type": "code",
   "execution_count": null,
   "metadata": {},
   "outputs": [],
   "source": []
  },
  {
   "cell_type": "code",
   "execution_count": null,
   "metadata": {},
   "outputs": [],
   "source": []
  }
 ],
 "metadata": {
  "kernelspec": {
   "display_name": "Python 3",
   "language": "python",
   "name": "python3"
  },
  "language_info": {
   "codemirror_mode": {
    "name": "ipython",
    "version": 3
   },
   "file_extension": ".py",
   "mimetype": "text/x-python",
   "name": "python",
   "nbconvert_exporter": "python",
   "pygments_lexer": "ipython3",
   "version": "3.5.2"
  }
 },
 "nbformat": 4,
 "nbformat_minor": 2
}
