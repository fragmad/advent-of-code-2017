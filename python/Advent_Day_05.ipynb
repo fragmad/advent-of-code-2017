{
 "cells": [
  {
   "cell_type": "markdown",
   "metadata": {},
   "source": [
    ">The message includes a list of the offsets for each jump. Jumps are relative: -1 moves to the previous instruction, and 2 skips the next one. Start at the first instruction in the list. The goal is to follow the jumps until one leads outside the list.\n",
    "\n",
    ">In addition, these instructions are a little strange; after each jump, the offset of that instruction increases by 1. So, if you come across an offset of 3, you would move three instructions forward, but change it to a 4 for the next time it is encountered.\n",
    "\n",
    ">For example, consider the following list of jump offsets:\n",
    "\n",
    "> - 0\n",
    "> - 3\n",
    "> - 0\n",
    "> - 1\n",
    "> - -3\n",
    "\n",
    "> Positive jumps (\"forward\") move downward; negative jumps move upward. For legibility in this example, these offset values will be written all on one line, with the current instruction marked in parentheses. The following steps would be taken before an exit is found:\n",
    "\n",
    "> (0) 3  0  1  -3  - before we have taken any steps.\n",
    "\n",
    "> (1) 3  0  1  -3  - jump with offset 0 (that is, don't jump at all). Fortunately, the instruction is then incremented to 1.\n",
    "\n",
    " > 2 (3) 0  1  -3  - step forward because of the instruction we just modified. The first instruction is incremented again, now to 2.\n",
    " \n",
    " > 2  4  0  1 (-3) - jump all the way to the end; leave a 4 behind.\n",
    " \n",
    " > 2 (4) 0  1  -2  - go back to where we just were; increment -3 to -2.\n",
    " \n",
    " > 2  5  0  1  -2  - jump 4 steps forward, escaping the maze.\n",
    " \n",
    ">In this example, the exit is reached in 5 steps.\n",
    "\n",
    "> How many steps does it take to reach the exit?"
   ]
  },
  {
   "cell_type": "code",
   "execution_count": 1,
   "metadata": {},
   "outputs": [],
   "source": [
    "TEST_PROGRAM = [0,3,0,1,-3]\n",
    "TEST_ANSWER = 5\n",
    "TEST_ANSWER_PROGRAM2 = 10\n",
    "\n",
    "TEST_PROGRAM2 = [0]\n",
    "TEST_ANSWER2 = 2\n",
    "TEST_PROGRAM3 = [1]\n",
    "TEST_ANSWER3 = 1\n",
    "TEST_PROGRAM4 = [-1]"
   ]
  },
  {
   "cell_type": "code",
   "execution_count": 2,
   "metadata": {},
   "outputs": [],
   "source": [
    "def execute_program(instruction_list): \n",
    "    index = 0\n",
    "\n",
    "    program_length = len(instruction_list)\n",
    "    steps = 0       \n",
    "        \n",
    "    while index >= 0 and index < program_length:\n",
    "        tmp = instruction_list[index]        \n",
    "        instruction_list[index] += 1            \n",
    "        index = index + tmp\n",
    "        \n",
    "        steps +=1\n",
    "    \n",
    "    return steps"
   ]
  },
  {
   "cell_type": "code",
   "execution_count": 3,
   "metadata": {},
   "outputs": [
    {
     "name": "stdout",
     "output_type": "stream",
     "text": [
      "It takes 5 steps to execute the test program and is correct: True.\n",
      "It takes 2 steps to execute the second test program and is correct: True.\n",
      "It takes 1 steps to execute the third test program and is correct: True.\n",
      "It takes 1 steps to execute the fourth test program.\n"
     ]
    }
   ],
   "source": [
    "execution_steps = execute_program(TEST_PROGRAM)\n",
    "print('It takes {} steps to execute the test program and is correct: {}.'.format(execution_steps,\n",
    "                                                                    execution_steps == TEST_ANSWER))\n",
    "execution_steps = execute_program(TEST_PROGRAM2)\n",
    "print('It takes {} steps to execute the second test program and is correct: {}.'.format(execution_steps,\n",
    "                                                                    execution_steps == TEST_ANSWER2))\n",
    "execution_steps = execute_program(TEST_PROGRAM3)\n",
    "print('It takes {} steps to execute the third test program and is correct: {}.'.format(execution_steps,\n",
    "                                                                    execution_steps == TEST_ANSWER3))\n",
    "execution_steps = execute_program(TEST_PROGRAM4)\n",
    "print('It takes {} steps to execute the fourth test program.'.format(execution_steps))\n",
    "                                                                    "
   ]
  },
  {
   "cell_type": "code",
   "execution_count": 4,
   "metadata": {},
   "outputs": [],
   "source": [
    "PUZZLE_DATA_STRING = []\n",
    "PUZZLE_DATA = [] \n",
    "\n",
    "with open('./assets/day5_data.txt', 'r') as data_file: \n",
    "    PUZZLE_DATA_STRING = data_file.readlines()\n",
    "    \n",
    "for item in PUZZLE_DATA_STRING: \n",
    "    PUZZLE_DATA.append(int(item))"
   ]
  },
  {
   "cell_type": "code",
   "execution_count": 5,
   "metadata": {},
   "outputs": [
    {
     "name": "stdout",
     "output_type": "stream",
     "text": [
      "It takes 378980 steps to execute the puzzle data.\n"
     ]
    }
   ],
   "source": [
    "puzzle_execution_steps = execute_program(PUZZLE_DATA)\n",
    "print('It takes {} steps to execute the puzzle data.'.format(puzzle_execution_steps))"
   ]
  },
  {
   "cell_type": "code",
   "execution_count": 6,
   "metadata": {},
   "outputs": [],
   "source": [
    "def execute_program2(instruction_list): \n",
    "    index = 0\n",
    "\n",
    "    program_length = len(instruction_list)\n",
    "    steps = 0       \n",
    "        \n",
    "    while index >= 0 and index < program_length:\n",
    "        tmp = instruction_list[index]\n",
    "        \n",
    "        if instruction_list[index] >= 3:\n",
    "            instruction_list[index] -= 1\n",
    "        else:\n",
    "            instruction_list[index] += 1\n",
    "            \n",
    "        index = index + tmp\n",
    "        \n",
    "        steps +=1\n",
    "    \n",
    "    return steps"
   ]
  },
  {
   "cell_type": "code",
   "execution_count": 7,
   "metadata": {},
   "outputs": [
    {
     "name": "stdout",
     "output_type": "stream",
     "text": [
      "It takes 8 steps to execute the test program and is correct: False.\n"
     ]
    }
   ],
   "source": [
    "execution_steps = execute_program2(TEST_PROGRAM)\n",
    "print('It takes {} steps to execute the test program and is correct: {}.'.format(execution_steps,\n",
    "                                                                    execution_steps == TEST_ANSWER_PROGRAM2))"
   ]
  },
  {
   "cell_type": "code",
   "execution_count": 8,
   "metadata": {},
   "outputs": [
    {
     "name": "stdout",
     "output_type": "stream",
     "text": [
      "It takes 26889114 steps to execute the puzzle data.\n"
     ]
    }
   ],
   "source": [
    "PUZZLE_DATA_STRING = []\n",
    "PUZZLE_DATA = [] \n",
    "\n",
    "with open('./assets/day5_data.txt', 'r') as data_file: \n",
    "    PUZZLE_DATA_STRING = data_file.readlines()\n",
    "    \n",
    "for item in PUZZLE_DATA_STRING: \n",
    "    PUZZLE_DATA.append(int(item))\n",
    "    \n",
    "puzzle_execution_steps = execute_program2(PUZZLE_DATA)\n",
    "print('It takes {} steps to execute the puzzle data.'.format(puzzle_execution_steps))"
   ]
  },
  {
   "cell_type": "code",
   "execution_count": null,
   "metadata": {},
   "outputs": [],
   "source": []
  }
 ],
 "metadata": {
  "kernelspec": {
   "display_name": "Python 3",
   "language": "python",
   "name": "python3"
  },
  "language_info": {
   "codemirror_mode": {
    "name": "ipython",
    "version": 3
   },
   "file_extension": ".py",
   "mimetype": "text/x-python",
   "name": "python",
   "nbconvert_exporter": "python",
   "pygments_lexer": "ipython3",
   "version": "3.5.2"
  }
 },
 "nbformat": 4,
 "nbformat_minor": 2
}
