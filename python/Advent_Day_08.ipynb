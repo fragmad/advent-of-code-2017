{
 "cells": [
  {
   "cell_type": "markdown",
   "metadata": {},
   "source": [
    "# --- Day 8: I Heard You Like Registers ---\n",
    "\n",
    "> You receive a signal directly from the CPU. Because of your recent assistance with jump instructions, it would like you to compute the result of a series of unusual register instructions.\n",
    "\n",
    "> Each instruction consists of several parts: the register to modify, whether to increase or decrease that register's value, the amount by which to increase or decrease it, and a condition. If the condition fails, skip the instruction without modifying the register. The registers all start at 0. The instructions look like this:\n",
    "\n",
    "> - b inc 5 if a > 1\n",
    "> - a inc 1 if b < 5\n",
    "> - c dec -10 if a >= 1\n",
    "> - c inc -20 if c == 10\n",
    "\n",
    "> These instructions would be processed as follows:\n",
    "\n",
    "> - Because a starts at 0, it is not greater than 1, and so b is not modified.\n",
    "> - a is increased by 1 (to 1) because b is less than 5 (it is 0).\n",
    "> - c is decreased by -10 (to 10) because a is now greater than or equal to 1 (it is 1).\n",
    "> - c is increased by -20 (to -10) because c is equal to 10.\n",
    "> - After this process, the largest value in any register is 1.\n",
    "\n",
    "> You might also encounter <= (less than or equal to) or != (not equal to). However, the CPU doesn't have the bandwidth to tell you what all the registers are named, and leaves that to you to determine.\n",
    "\n",
    "> What is the largest value in any register after completing the instructions in your puzzle input?\n",
    "\n"
   ]
  },
  {
   "cell_type": "code",
   "execution_count": 63,
   "metadata": {},
   "outputs": [],
   "source": [
    "def parse_input_file(file_name):\n",
    "    with open(file_name, 'r') as file_input:\n",
    "        TEST_INPUT = [line.rstrip('\\n') for line in file_input]\n",
    "    \n",
    "    program = []\n",
    "    \n",
    "    for line in TEST_INPUT:\n",
    "#        print(line)\n",
    "        words = line.split()\n",
    "        register = words[0]\n",
    "        operator = words[1]\n",
    "        operand = words[2]\n",
    "        \n",
    "        comparison_register = words[4]\n",
    "        comparison_operation = words[5]\n",
    "        comparison_value = words[6]\n",
    "        \n",
    "#        print(register, operator, operand, comparison_register, comparison_operation, comparison_value)           \n",
    "        line = (register, operator, operand, comparison_register, comparison_operation, comparison_value)\n",
    "        \n",
    "        program.append(line)\n",
    "        #nodes[key] = (AdventNode(key, weight), sub_nodes)\n",
    "        \n",
    "    return program"
   ]
  },
  {
   "cell_type": "code",
   "execution_count": 64,
   "metadata": {},
   "outputs": [
    {
     "name": "stdout",
     "output_type": "stream",
     "text": [
      "('b', 'inc', '5', 'a', '>', '1')\n",
      "('a', 'inc', '1', 'b', '<', '5')\n",
      "('c', 'dec', '-10', 'a', '>=', '1')\n",
      "('c', 'inc', '-20', 'c', '==', '10')\n"
     ]
    }
   ],
   "source": [
    "TEST_INPUT = parse_input_file('./assets/day8_test_data.txt')\n",
    "\n",
    "for line in TEST_INPUT: \n",
    "    print(line)\n",
    "\n",
    "\n"
   ]
  },
  {
   "cell_type": "code",
   "execution_count": 65,
   "metadata": {},
   "outputs": [
    {
     "name": "stdout",
     "output_type": "stream",
     "text": [
      "True\n"
     ]
    }
   ],
   "source": [
    "def perform_comparison(comparison_register, comparison_operation, comparison_value):    \n",
    "    return {\n",
    "        '>': comparison_register > comparison_value,\n",
    "        '<': comparison_register < comparison_value,\n",
    "        '>=': comparison_register >= comparison_value,\n",
    "        '<=': comparison_register <= comparison_value,\n",
    "        '==': comparison_register == comparison_value,\n",
    "        '!=': comparison_register != comparison_value      \n",
    "    }[comparison_operation]\n",
    "\n",
    "test_register = 1\n",
    "print(perform_comparison(test_register, '!=', 2))"
   ]
  },
  {
   "cell_type": "code",
   "execution_count": 74,
   "metadata": {},
   "outputs": [],
   "source": [
    "def calculate_registers(input_program): \n",
    "    # A register is represented first as a dictionary where the key is the name and the value is just that.\n",
    "    registers = {} \n",
    "    # Later we extract the values into a list. I fully expect that star 2 wants to know the name of this.  \n",
    "    final_registers = []\n",
    "    \n",
    "    for line in input_program:\n",
    "        worked_register = line[0]\n",
    "        operator = line[1]\n",
    "        operand = line[2]    \n",
    "        comparison_register = line[3]        \n",
    "        comparison_operation = line[4]\n",
    "        comparison_value = int(line[5])\n",
    "        \n",
    "        if worked_register not in registers: \n",
    "            registers[worked_register] = 0\n",
    "        \n",
    "        if comparison_register not in registers: \n",
    "            registers[comparison_register] = 0\n",
    "            \n",
    "        accumilator = registers[worked_register]                    \n",
    "        comparison_register_value = registers[line[3]]\n",
    "            \n",
    "        if perform_comparison(comparison_register_value, comparison_operation, comparison_value):            \n",
    "            if operator == 'inc':\n",
    "                accumilator = accumilator + int(operand)                \n",
    "            elif operator == 'dec':\n",
    "                accumilator = accumilator - int(operand)       \n",
    "        \n",
    "        registers[worked_register] = accumilator \n",
    "        \n",
    "    # Here we need to transfer from the dictionary into a list all the register values \n",
    "    # so we can find the highest one.\n",
    "    for key in registers.keys():\n",
    "        final_registers.append(registers[key])    \n",
    "        \n",
    "    return max(final_registers)"
   ]
  },
  {
   "cell_type": "code",
   "execution_count": 75,
   "metadata": {},
   "outputs": [
    {
     "name": "stdout",
     "output_type": "stream",
     "text": [
      "After running the program the highest value in a register is 1. This is correct: True.\n"
     ]
    }
   ],
   "source": [
    "TEST_INPUT = parse_input_file('./assets/day8_test_data.txt')\n",
    "EXPECTED_TEST_ANSWER = 1\n",
    "TEST_ANSWER = calculate_registers(TEST_INPUT)\n",
    "\n",
    "print('After running the program the highest value in a register is {}. This is correct: {}.'.format(TEST_ANSWER,\n",
    "                                                                                                     TEST_ANSWER == EXPECTED_TEST_ANSWER))"
   ]
  },
  {
   "cell_type": "code",
   "execution_count": 76,
   "metadata": {},
   "outputs": [
    {
     "name": "stdout",
     "output_type": "stream",
     "text": [
      "After running the program the highest value in a register is 4647 for the puzzle data.\n"
     ]
    }
   ],
   "source": [
    "PUZZLE_INPUT = parse_input_file('./assets/day8_puzzle_data.txt')\n",
    "PUZZLE_ANSWER = calculate_registers(PUZZLE_INPUT)\n",
    "\n",
    "print('After running the program the highest value in a register is {} for the puzzle data.'.format(PUZZLE_ANSWER))\n",
    "                                                                                                     "
   ]
  },
  {
   "cell_type": "markdown",
   "metadata": {},
   "source": [
    "That got the gold star! :)"
   ]
  },
  {
   "cell_type": "markdown",
   "metadata": {},
   "source": [
    "## --- Part Two ---\n",
    "\n",
    "> To be safe, the CPU also needs to know the highest value held in any register during this process so that it can decide how much memory to allocate to these operations. For example, in the above instructions, the highest value ever held was 10 (in register c after the third instruction was evaluated).\n",
    "\n"
   ]
  },
  {
   "cell_type": "code",
   "execution_count": 77,
   "metadata": {},
   "outputs": [],
   "source": [
    "def calculate_registers_star2(input_program): \n",
    "    # A register is represented first as a dictionary where the key is the name and the value is just that.\n",
    "    registers = {} \n",
    "    # Later we extract the values into a list. I fully expect that star 2 wants to know the name of this.  \n",
    "    final_registers = []\n",
    "    highest_value = 0\n",
    "    \n",
    "    for line in input_program:\n",
    "        worked_register = line[0]\n",
    "        operator = line[1]\n",
    "        operand = line[2]    \n",
    "        comparison_register = line[3]        \n",
    "        comparison_operation = line[4]\n",
    "        comparison_value = int(line[5])\n",
    "        \n",
    "        if worked_register not in registers: \n",
    "            registers[worked_register] = 0\n",
    "        \n",
    "        if comparison_register not in registers: \n",
    "            registers[comparison_register] = 0\n",
    "            \n",
    "        accumilator = registers[worked_register]                    \n",
    "        comparison_register_value = registers[line[3]]\n",
    "            \n",
    "        if perform_comparison(comparison_register_value, comparison_operation, comparison_value):            \n",
    "            if operator == 'inc':\n",
    "                accumilator = accumilator + int(operand)                \n",
    "            elif operator == 'dec':\n",
    "                accumilator = accumilator - int(operand)       \n",
    "        \n",
    "        registers[worked_register] = accumilator \n",
    "        if accumilator > highest_value:\n",
    "            highest_value = accumilator\n",
    "    \n",
    "        \n",
    "    return highest_value"
   ]
  },
  {
   "cell_type": "code",
   "execution_count": 78,
   "metadata": {},
   "outputs": [
    {
     "name": "stdout",
     "output_type": "stream",
     "text": [
      "After running the program the highest value in a register is 10. This is correct: True.\n"
     ]
    }
   ],
   "source": [
    "TEST_INPUT = parse_input_file('./assets/day8_test_data.txt')\n",
    "EXPECTED_TEST_ANSWER = 10\n",
    "TEST_ANSWER = calculate_registers_star2(TEST_INPUT)\n",
    "\n",
    "print('After running the program the highest value in a register is {}. This is correct: {}.'.format(TEST_ANSWER,\n",
    "                                                                                                     TEST_ANSWER == EXPECTED_TEST_ANSWER))"
   ]
  },
  {
   "cell_type": "code",
   "execution_count": 79,
   "metadata": {},
   "outputs": [
    {
     "name": "stdout",
     "output_type": "stream",
     "text": [
      "After running the program the highest value in a register is 5590 for the puzzle data.\n"
     ]
    }
   ],
   "source": [
    "PUZZLE_INPUT = parse_input_file('./assets/day8_puzzle_data.txt')\n",
    "PUZZLE_ANSWER = calculate_registers_star2(PUZZLE_INPUT)\n",
    "\n",
    "print('After running the program the highest value in a register is {} for the puzzle data.'.format(PUZZLE_ANSWER))\n",
    "                                                                                                     "
   ]
  },
  {
   "cell_type": "markdown",
   "metadata": {},
   "source": [
    "And I have the second star! :D "
   ]
  },
  {
   "cell_type": "code",
   "execution_count": null,
   "metadata": {},
   "outputs": [],
   "source": []
  }
 ],
 "metadata": {
  "kernelspec": {
   "display_name": "Python 3",
   "language": "python",
   "name": "python3"
  },
  "language_info": {
   "codemirror_mode": {
    "name": "ipython",
    "version": 3
   },
   "file_extension": ".py",
   "mimetype": "text/x-python",
   "name": "python",
   "nbconvert_exporter": "python",
   "pygments_lexer": "ipython3",
   "version": "3.5.2"
  }
 },
 "nbformat": 4,
 "nbformat_minor": 2
}
